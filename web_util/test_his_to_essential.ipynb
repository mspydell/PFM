{
 "cells": [
  {
   "cell_type": "code",
   "execution_count": 1,
   "metadata": {},
   "outputs": [],
   "source": [
    "import os\n",
    "import subprocess\n",
    "import sys\n",
    "sys.path.append('../sdpm_py_util')\n",
    "sys.path.append('../web_util')\n",
    "import plotting_functions as pltfuns\n",
    "import netCDF4 as nc\n",
    "import web_functions as webfuns\n",
    "import matplotlib.pyplot as plt\n",
    "import numpy as np\n",
    "from datetime import datetime, timedelta\n"
   ]
  },
  {
   "cell_type": "code",
   "execution_count": 17,
   "metadata": {},
   "outputs": [
    {
     "name": "stdout",
     "output_type": "stream",
     "text": [
      "0.33800003\n",
      "[[[ 0.09500001  0.08800001  0.081      ... -0.28100002 -0.29900002\n",
      "   -0.31      ]\n",
      "  [ 0.09500001  0.08800001  0.082      ... -0.273      -0.291\n",
      "   -0.30600002]\n",
      "  [ 0.096       0.089       0.083      ... -0.263      -0.282\n",
      "   -0.30100003]\n",
      "  ...\n",
      "  [ 0.098       0.094       0.093      ... -0.23       -0.246\n",
      "   -0.273     ]\n",
      "  [ 0.098       0.09500001  0.096      ... -0.22600001 -0.24300002\n",
      "   -0.272     ]\n",
      "  [ 0.098       0.097       0.1        ... -0.22100002 -0.24000001\n",
      "   -0.26900002]]]\n",
      "m\n",
      "2025-04-19T13:00\n",
      "2025-04-19 13:00:00\n"
     ]
    }
   ],
   "source": [
    "fn='/scratch/PFM_Simulations/hycom_data/hy_ssh_2025-04-17T12:00_2025-04-19T13:00.nc'\n",
    "tstr = fn[-19:-3]\n",
    "tdt  = datetime.strptime(tstr,'%Y-%m-%dT%H:%M')\n",
    "ds = nc.Dataset(fn)\n",
    "zeta = ds.variables['surf_el']\n",
    "print(np.max(np.abs(zeta[:])))\n",
    "print(zeta[0:10,0:10])\n",
    "print(ds.variables['surf_el'].units)\n",
    "print(tstr)\n",
    "print(tdt)\n"
   ]
  },
  {
   "cell_type": "code",
   "execution_count": 11,
   "metadata": {},
   "outputs": [
    {
     "name": "stdout",
     "output_type": "stream",
     "text": [
      "dict_keys(['lat', 'lon', 'surf_el', 'tau', 'time'])\n",
      "[221773.]\n",
      "hours since 2000-01-01 00:00:00\n"
     ]
    }
   ],
   "source": [
    "\n",
    "\n",
    "ds = nc.Dataset(fn)\n",
    "vars = ds.variables.keys()\n",
    "print(vars)\n",
    "print(ds.variables['time'][:])\n",
    "# [221774.]\n",
    "print(ds.variables['time'].units)\n",
    "\n"
   ]
  },
  {
   "cell_type": "code",
   "execution_count": 74,
   "metadata": {},
   "outputs": [],
   "source": [
    "def webnctime_to_datetime(fn,timezone):\n",
    "    ds = nc.Dataset(fn)\n",
    "    time = ds.variables['time'][:]\n",
    "    tref = datetime.strptime('19990101','%Y%m%d')\n",
    "    times_utc = tref + time * timedelta(days=1)\n",
    "    if timezone=='PDT':\n",
    "        toff_hr = -7.0\n",
    "    elif timezone=='PST':\n",
    "        toff_hr = -8.0\n",
    "\n",
    "    times_dt = times_utc + toff_hr/24.0 * timedelta(days=1)\n",
    "\n",
    "    return times_dt"
   ]
  },
  {
   "cell_type": "code",
   "execution_count": 6,
   "metadata": {},
   "outputs": [],
   "source": [
    "\n",
    "fn_grd = '/scratch/PFM_Simulations/Grids/GRID_SDTJRE_LV4_mss_oct2024.nc'\n",
    "fn_his = '/scratch/PFM_Simulations/LV4_Forecast/His/LV4_ocean_his_202504170000.nc'\n",
    "fn_web = '/scratch/PFM_Simulations/LV4_Forecast/His/web_data_2025041700.nc'\n"
   ]
  },
  {
   "cell_type": "code",
   "execution_count": 80,
   "metadata": {},
   "outputs": [
    {
     "name": "stdout",
     "output_type": "stream",
     "text": [
      "\u001b[31mType:\u001b[39m        MaskedArray\n",
      "\u001b[31mString form:\u001b[39m\n",
      "[datetime.datetime(2025, 4, 15, 17, 0)\n",
      "           datetime.datetime(2025, 4, 15, 18, 0)\n",
      "           datetime.datetime( <...> 025, 4, 20, 15, 0)\n",
      "           datetime.datetime(2025, 4, 20, 16, 0)\n",
      "           datetime.datetime(2025, 4, 20, 17, 0)]\n",
      "\u001b[31mLength:\u001b[39m      121\n",
      "\u001b[31mFile:\u001b[39m        ~/anaconda3/envs/PFM-env/lib/python3.13/site-packages/numpy/ma/__init__.py\n",
      "\u001b[31mDocstring:\u001b[39m  \n",
      "An array class with possibly masked values.\n",
      "\n",
      "Masked values of True exclude the corresponding element from any\n",
      "computation.\n",
      "\n",
      "Construction::\n",
      "\n",
      "  x = MaskedArray(data, mask=nomask, dtype=None, copy=False, subok=True,\n",
      "                  ndmin=0, fill_value=None, keep_mask=True, hard_mask=None,\n",
      "                  shrink=True, order=None)\n",
      "\n",
      "Parameters\n",
      "----------\n",
      "data : array_like\n",
      "    Input data.\n",
      "mask : sequence, optional\n",
      "    Mask. Must be convertible to an array of booleans with the same\n",
      "    shape as `data`. True indicates a masked (i.e. invalid) data.\n",
      "dtype : dtype, optional\n",
      "    Data type of the output.\n",
      "    If `dtype` is None, the type of the data argument (``data.dtype``)\n",
      "    is used. If `dtype` is not None and different from ``data.dtype``,\n",
      "    a copy is performed.\n",
      "copy : bool, optional\n",
      "    Whether to copy the input data (True), or to use a reference instead.\n",
      "    Default is False.\n",
      "subok : bool, optional\n",
      "    Whether to return a subclass of `MaskedArray` if possible (True) or a\n",
      "    plain `MaskedArray`. Default is True.\n",
      "ndmin : int, optional\n",
      "    Minimum number of dimensions. Default is 0.\n",
      "fill_value : scalar, optional\n",
      "    Value used to fill in the masked values when necessary.\n",
      "    If None, a default based on the data-type is used.\n",
      "keep_mask : bool, optional\n",
      "    Whether to combine `mask` with the mask of the input data, if any\n",
      "    (True), or to use only `mask` for the output (False). Default is True.\n",
      "hard_mask : bool, optional\n",
      "    Whether to use a hard mask or not. With a hard mask, masked values\n",
      "    cannot be unmasked. Default is False.\n",
      "shrink : bool, optional\n",
      "    Whether to force compression of an empty mask. Default is True.\n",
      "order : {'C', 'F', 'A'}, optional\n",
      "    Specify the order of the array.  If order is 'C', then the array\n",
      "    will be in C-contiguous order (last-index varies the fastest).\n",
      "    If order is 'F', then the returned array will be in\n",
      "    Fortran-contiguous order (first-index varies the fastest).\n",
      "    If order is 'A' (default), then the returned array may be\n",
      "    in any order (either C-, Fortran-contiguous, or even discontiguous),\n",
      "    unless a copy is required, in which case it will be C-contiguous.\n",
      "\n",
      "Examples\n",
      "--------\n",
      ">>> import numpy as np\n",
      "\n",
      "The ``mask`` can be initialized with an array of boolean values\n",
      "with the same shape as ``data``.\n",
      "\n",
      ">>> data = np.arange(6).reshape((2, 3))\n",
      ">>> np.ma.MaskedArray(data, mask=[[False, True, False],\n",
      "...                               [False, False, True]])\n",
      "masked_array(\n",
      "  data=[[0, --, 2],\n",
      "        [3, 4, --]],\n",
      "  mask=[[False,  True, False],\n",
      "        [False, False,  True]],\n",
      "  fill_value=999999)\n",
      "\n",
      "Alternatively, the ``mask`` can be initialized to homogeneous boolean\n",
      "array with the same shape as ``data`` by passing in a scalar\n",
      "boolean value:\n",
      "\n",
      ">>> np.ma.MaskedArray(data, mask=False)\n",
      "masked_array(\n",
      "  data=[[0, 1, 2],\n",
      "        [3, 4, 5]],\n",
      "  mask=[[False, False, False],\n",
      "        [False, False, False]],\n",
      "  fill_value=999999)\n",
      "\n",
      ">>> np.ma.MaskedArray(data, mask=True)\n",
      "masked_array(\n",
      "  data=[[--, --, --],\n",
      "        [--, --, --]],\n",
      "  mask=[[ True,  True,  True],\n",
      "        [ True,  True,  True]],\n",
      "  fill_value=999999,\n",
      "  dtype=int64)\n",
      "\n",
      ".. note::\n",
      "    The recommended practice for initializing ``mask`` with a scalar\n",
      "    boolean value is to use ``True``/``False`` rather than\n",
      "    ``np.True_``/``np.False_``. The reason is :attr:`nomask`\n",
      "    is represented internally as ``np.False_``.\n",
      "\n",
      "    >>> np.False_ is np.ma.nomask\n",
      "    True"
     ]
    }
   ],
   "source": [
    "fn_web = '/scratch/PFM_Simulations/LV4_Forecast/His/web_data_2025041600.nc'\n",
    "times_dt = webnctime_to_datetime(fn_web,'PDT')\n",
    "dum = np.linspace(0,1,10)\n",
    "#dum?\n",
    "times_dt?\n",
    "#print(times_dt)"
   ]
  },
  {
   "cell_type": "code",
   "execution_count": null,
   "metadata": {},
   "outputs": [
    {
     "name": "stdout",
     "output_type": "stream",
     "text": [
      "dict_keys(['shoreline_dye_tot', 'shoreline_risk', 'map_dye_tot', 'sites_dye_tot', 'sites_risk', 'map_lat', 'map_lon', 'shoreline_lat', 'shoreline_lon', 'time', 'sites_lat', 'sites_lon', 'thresh_holds'])\n",
      "[9602.         9602.04166667 9602.08333333 9602.125      9602.16666667\n",
      " 9602.20833333 9602.25       9602.29166667 9602.33333333 9602.375\n",
      " 9602.41666667 9602.45833333 9602.5        9602.54166667 9602.58333333\n",
      " 9602.625      9602.66666667 9602.70833333 9602.75       9602.79166667\n",
      " 9602.83333333 9602.875      9602.91666667 9602.95833333 9603.\n",
      " 9603.04166667 9603.08333333 9603.125      9603.16666667 9603.20833333\n",
      " 9603.25       9603.29166667 9603.33333333 9603.375      9603.41666667\n",
      " 9603.45833333 9603.5        9603.54166667 9603.58333333 9603.625\n",
      " 9603.66666667 9603.70833333 9603.75       9603.79166667 9603.83333333\n",
      " 9603.875      9603.91666667 9603.95833333 9604.         9604.04166667\n",
      " 9604.08333333 9604.125      9604.16666667 9604.20833333 9604.25\n",
      " 9604.29166667 9604.33333333 9604.375      9604.41666667 9604.45833333\n",
      " 9604.5        9604.54166667 9604.58333333 9604.625      9604.66666667\n",
      " 9604.70833333 9604.75       9604.79166667 9604.83333333 9604.875\n",
      " 9604.91666667 9604.95833333 9605.         9605.04166667 9605.08333333\n",
      " 9605.125      9605.16666667 9605.20833333 9605.25       9605.29166667\n",
      " 9605.33333333 9605.375      9605.41666667 9605.45833333 9605.5\n",
      " 9605.54166667 9605.58333333 9605.625      9605.66666667 9605.70833333\n",
      " 9605.75       9605.79166667 9605.83333333 9605.875      9605.91666667\n",
      " 9605.95833333 9606.         9606.04166667 9606.08333333 9606.125\n",
      " 9606.16666667 9606.20833333 9606.25       9606.29166667 9606.33333333\n",
      " 9606.375      9606.41666667 9606.45833333 9606.5        9606.54166667\n",
      " 9606.58333333 9606.625      9606.66666667 9606.70833333 9606.75\n",
      " 9606.79166667 9606.83333333 9606.875      9606.91666667 9606.95833333\n",
      " 9607.        ]\n",
      "the site locations are PTJ, IB pier, Silver Strand, HdC\n",
      "['PTJ', ' IB pier', ' Silver Strand', ' HdC']\n",
      "(121, 1060)\n",
      "(121, 1060)\n",
      "(121, 1141, 486)\n",
      "(121, 4)\n",
      "(121, 4)\n",
      "(1141, 486)\n",
      "(1141, 486)\n",
      "(1060,)\n",
      "(1060,)\n",
      "(121,)\n",
      "(4,)\n",
      "(4,)\n",
      "(2,)\n"
     ]
    }
   ],
   "source": [
    "ds = nc.Dataset(fn_web)\n",
    "vars = ds.variables.keys()\n",
    "print(vars)\n",
    "print(ds.variables['time'][:])\n",
    "print(ds.getncattr('site info'))\n",
    "\n"
   ]
  },
  {
   "cell_type": "code",
   "execution_count": 11,
   "metadata": {},
   "outputs": [
    {
     "name": "stdout",
     "output_type": "stream",
     "text": [
      "['Playa de Tijuanas', 'Imperial Beach pier', 'Silver Strand', 'Hotel del Coronado']\n",
      "[32.51997996 32.58008156 32.62491836 32.67783588]\n"
     ]
    }
   ],
   "source": [
    "\n",
    "fn_web = '/scratch/PFM_Simulations/LV4_Forecast/His/web_data_latest.nc'\n",
    "ds = nc.Dataset(fn_web)\n",
    "dum = ds.getncattr('site info')\n",
    "dum2 = dum[23:]\n",
    "#dum2 = dum2.remove(' ')\n",
    "sites = dum2.split(\", \")\n",
    "print(sites)\n",
    "lat_sites = ds.variables['sites_lat'][:]\n",
    "print(lat_sites)\n",
    "\n"
   ]
  },
  {
   "cell_type": "code",
   "execution_count": null,
   "metadata": {},
   "outputs": [],
   "source": [
    "\n",
    "for var in vars:\n",
    "    print(np.shape(ds.variables[var][:]))\n",
    "\n",
    "\n"
   ]
  },
  {
   "cell_type": "code",
   "execution_count": null,
   "metadata": {},
   "outputs": [],
   "source": [
    "\n",
    "ds = nc.Dataset(fn_web)\n",
    "print(ds.variables.keys())\n",
    "print(ds.variables['thresh_holds'][:])"
   ]
  },
  {
   "cell_type": "code",
   "execution_count": 3,
   "metadata": {},
   "outputs": [],
   "source": [
    "webfuns.full_his_to_essential(fn_his,fn_grd)\n"
   ]
  },
  {
   "cell_type": "code",
   "execution_count": 7,
   "metadata": {},
   "outputs": [
    {
     "name": "stdout",
     "output_type": "stream",
     "text": [
      "...done making web nc file: 0 (0=good)\n"
     ]
    }
   ],
   "source": [
    "\n",
    "cmd_list = ['python','-W','ignore','web_functions.py','full_his_to_essential',fn_his,fn_grd]\n",
    "os.chdir('../web_util')\n",
    "ret6 = subprocess.run(cmd_list)   \n",
    "print('...done making web nc file: ' + str(ret6.returncode) + ' (0=good)') "
   ]
  },
  {
   "cell_type": "code",
   "execution_count": 3,
   "metadata": {},
   "outputs": [
    {
     "data": {
      "text/plain": [
       "<matplotlib.collections.PathCollection at 0x15541f6147d0>"
      ]
     },
     "execution_count": 3,
     "metadata": {},
     "output_type": "execute_result"
    },
    {
     "data": {
      "image/png": "[encoded data removed]",
      "text/plain": [
       "<Figure size 640x480 with 2 Axes>"
      ]
     },
     "metadata": {},
     "output_type": "display_data"
    }
   ],
   "source": [
    "ds = nc.Dataset(fn_web)\n",
    "shore = dict()\n",
    "dye = dict()\n",
    "sites = dict()\n",
    "shore['Lat'] = ds.variables['shoreline_lat'][:]\n",
    "shore['Lon'] = ds.variables['shoreline_lon'][:]\n",
    "shore['Risk'] = ds.variables['shoreline_risk'][:]\n",
    "dye['Lat'] = ds.variables['map_lat'][:]\n",
    "dye['Lon'] = ds.variables['map_lon'][:]\n",
    "dye['Dye_tot'] = ds.variables['map_dye_tot'][:]\n",
    "sites['Lat'] = ds.variables['sites_lat'][:]\n",
    "sites['Lon'] = ds.variables['sites_lon'][:]\n",
    "sites['Risk'] = ds.variables['sites_risk'][:]\n",
    "\n",
    "\n",
    "iit = 110 # the time index\n",
    "# make the risk colormap\n",
    "color_map = {\n",
    "    0: 'green',\n",
    "    1: 'yellow',\n",
    "    2: 'red'\n",
    "}\n",
    "# associate the colormap with the numbers\n",
    "# the .nc data is in 3 dictionaries\n",
    "colors = [color_map[number] for number in shore['Risk'][iit,:]]\n",
    "colors2 = [color_map[number] for number in sites['Risk'][iit,:]]\n",
    "\n",
    "cmap = plt.get_cmap('magma_r')\n",
    "plevs = np.arange(-6,-1,.5)\n",
    "\n",
    "fig, ax = plt.subplots()\n",
    "dye2 = dye['Dye_tot'][iit,:,:]\n",
    "msk = dye2==0\n",
    "dye2[msk]=0.0000000001\n",
    "l10dye = np.log10(dye2)\n",
    "cset=ax.contourf(dye['Lon'],dye['Lat'],l10dye, plevs, cmap=cmap)\n",
    "cbar = fig.colorbar(cset, ax=ax, orientation='vertical', pad = 0.05)\n",
    "ax.scatter(shore['Lon'],shore['Lat'], s=25, c=colors, alpha=0.5)\n",
    "ax.scatter(sites['Lon'],sites['Lat'], s=125, c=colors2, alpha=0.99 , edgecolors='black', linewidths=1)\n"
   ]
  },
  {
   "cell_type": "code",
   "execution_count": 47,
   "metadata": {},
   "outputs": [
    {
     "data": {
      "text/plain": [
       "<matplotlib.image.AxesImage at 0x15540271c910>"
      ]
     },
     "execution_count": 47,
     "metadata": {},
     "output_type": "execute_result"
    },
    {
     "data": {
      "image/png": "[encoded data removed]",
      "text/plain": [
       "<Figure size 640x480 with 1 Axes>"
      ]
     },
     "metadata": {},
     "output_type": "display_data"
    }
   ],
   "source": [
    "fig, ax = plt.subplots()\n",
    "ax.imshow(l10dye[900:950,300:400], origin='lower')\n",
    "#ax.imshow(l10dye[700:740,305:350], origin='lower')\n"
   ]
  },
  {
   "cell_type": "code",
   "execution_count": 48,
   "metadata": {},
   "outputs": [
    {
     "data": {
      "image/png": "[encoded data removed]",
      "text/plain": [
       "<Figure size 640x480 with 1 Axes>"
      ]
     },
     "metadata": {},
     "output_type": "display_data"
    }
   ],
   "source": [
    "fig, ax = plt.subplots()\n",
    "for ii in [700,720,740,760]:\n",
    "    ax.plot(l10dye[ii,305:350],'-o')\n",
    "    ax.plot(l10dye[ii+200,305:350])\n"
   ]
  },
  {
   "cell_type": "code",
   "execution_count": null,
   "metadata": {},
   "outputs": [],
   "source": [
    "\n",
    "print(l10dye[700:702,305:350])\n"
   ]
  },
  {
   "cell_type": "code",
   "execution_count": 36,
   "metadata": {},
   "outputs": [
    {
     "data": {
      "image/png": "[encoded data removed]",
      "text/plain": [
       "<Figure size 640x480 with 1 Axes>"
      ]
     },
     "metadata": {},
     "output_type": "display_data"
    }
   ],
   "source": [
    "plevs2=np.linspace(-5,0,501)\n",
    "fig, ax = plt.subplots()\n",
    "cset=ax.contourf(dye['Lon'][700:710,305:350],dye['Lat'][700:710,305:350],l10dye[700:710,305:350], plevs2)\n"
   ]
  },
  {
   "cell_type": "code",
   "execution_count": null,
   "metadata": {},
   "outputs": [],
   "source": [
    "\n",
    "## test river stuff here\n",
    "Q2 = np.arange(0,300,.1)\n",
    "R1 = 0.65\n",
    "R2 = 0.045\n",
    "Q00 = 2.25\n",
    "WW1 = R1*Q2\n",
    "WW2 = R2*Q2 + (R1-R2)*Q00\n",
    "msk = Q2>Q00\n",
    "WW1[msk] = WW2[msk]\n",
    "dye2 = WW1 / Q2\n",
    "\n",
    "\n",
    "fig, ax = plt.subplots()\n",
    "ax.loglog(Q2,dye2)\n"
   ]
  },
  {
   "cell_type": "code",
   "execution_count": null,
   "metadata": {},
   "outputs": [
    {
     "name": "stdout",
     "output_type": "stream",
     "text": [
      "testing. loop: 0  of  4\n",
      "pausing  15  sec\n",
      "testing. loop: 0  of  10\n",
      "pausing  4  sec\n",
      "testing. loop: 1  of  10\n",
      "pausing  4  sec\n",
      "testing. loop: 2  of  10\n",
      "pausing  4  sec\n",
      "testing. loop: 3  of  10\n",
      "pausing  4  sec\n",
      "testing. loop: 1  of  4\n",
      "pausing  15  sec\n",
      "testing. loop: 4  of  10\n",
      "pausing  4  sec\n",
      "testing. loop: 5  of  10\n",
      "pausing  4  sec\n",
      "testing. loop: 6  of  10\n",
      "pausing  4  sec\n",
      "testing. loop: 7  of  10\n",
      "pausing  4  sec\n",
      "testing. loop: 2  of  4\n",
      "pausing  15  sec\n",
      "testing. loop: 8  of  10\n",
      "pausing  4  sec\n",
      "testing. loop: 9  of  10\n",
      "pausing  4  sec\n"
     ]
    },
    {
     "name": "stdout",
     "output_type": "stream",
     "text": [
      "testing. loop: 3  of  4\n",
      "pausing  15  sec\n"
     ]
    }
   ],
   "source": [
    "# gonna test popen and run here...\n",
    "os.chdir('../sdpm_py_util')\n",
    "cmd_list = ['python','-W','ignore','plotting_functions.py','test_popen','15','4']\n",
    "ret6 = subprocess.Popen(cmd_list)\n",
    "cmd_list = ['python','-W','ignore','plotting_functions.py','test_popen','4','10']\n",
    "ret7 = subprocess.run(cmd_list)\n",
    "\n",
    "\n"
   ]
  },
  {
   "cell_type": "code",
   "execution_count": 56,
   "metadata": {},
   "outputs": [
    {
     "name": "stdout",
     "output_type": "stream",
     "text": [
      "dict_keys(['xl', 'el', 'JPRJ', 'spherical', 'depthmin', 'depthmax', 'hraw', 'h', 'f', 'pm', 'pn', 'dndx', 'dmde', 'x_rho', 'y_rho', 'x_psi', 'y_psi', 'x_u', 'y_u', 'x_v', 'y_v', 'lat_rho', 'lon_rho', 'lat_psi', 'lon_psi', 'lat_u', 'lon_u', 'lat_v', 'lon_v', 'mask_rho', 'mask_u', 'mask_v', 'mask_psi', 'angle'])\n",
      "dict_keys(['Tair', 'Pair', 'Qair', 'Uwind', 'Vwind', 'rain', 'swrad', 'lwrad', 'lwrad_down', 'lat', 'lon', 'ocean_time', 'tair_time', 'pair_time', 'qair_time', 'wind_time', 'rain_time', 'srf_time', 'lrf_time'])\n",
      "dict_keys(['temp_south', 'salt_south', 'u_south', 'v_south', 'ubar_south', 'vbar_south', 'zeta_south', 'temp_north', 'salt_north', 'u_north', 'v_north', 'ubar_north', 'vbar_north', 'zeta_north', 'temp_west', 'salt_west', 'u_west', 'v_west', 'ubar_west', 'vbar_west', 'zeta_west', 'Vtransform', 'Vstretching', 'theta_s', 'theta_b', 'Tcline', 'hc', 'ocean_time', 'zeta_time', 'v2d_time', 'v3d_time', 'salt_time', 'temp_time', 'Cs_r'])\n",
      "dict_keys(['tide_period', 'tide_Ephase', 'tide_Eamp', 'tide_Cphase', 'tide_Cangle', 'tide_Cmin', 'tide_Cmax'])\n",
      "dict_keys(['temp', 'salt', 'u', 'v', 'ubar', 'vbar', 'zeta', 'Vtransform', 'Vstretching', 'theta_s', 'theta_b', 'Tcline', 'hc', 'lat_rho', 'lon_rho', 'lat_u', 'lon_u', 'lat_v', 'lon_v', 'ocean_time', 'Cs_r'])\n",
      "(10,)\n",
      "(10, 390, 253)\n",
      "(10, 390, 253)\n",
      "(10, 390, 253)\n",
      "(10, 390, 253)\n",
      "(10, 390, 253)\n",
      "(10, 390, 253)\n"
     ]
    }
   ],
   "source": [
    "fngrd = '/scratch/PFM_Simulations/Grids/GRID_SDTJRE_LV1_rx020_hmask.nc'\n",
    "fnatm = '/scratch/PHM_Simulations/LV1_Forecast/Forc/LV1_ATM_FORCING.nc'\n",
    "fnbc  = '/scratch/PHM_Simulations/LV1_Forecast/Forc/LV1_OCEAN_BC.nc'\n",
    "fntide = '/scratch/matt/sdtjre_L1/roms_tide_adcirc_LV01.nc'\n",
    "fnic = '/scratch/PHM_Simulations/LV1_Forecast/Forc/LV1_OCEAN_IC.nc'\n",
    "grd = nc.Dataset(fngrd)\n",
    "atm = nc.Dataset(fnatm)\n",
    "bc = nc.Dataset(fnbc)\n",
    "tide = nc.Dataset(fntide)\n",
    "ic = nc.Dataset(fnic)\n",
    "print(grd.variables.keys())\n",
    "print(atm.variables.keys())\n",
    "print(bc.variables.keys())\n",
    "print(tide.variables.keys())\n",
    "print(ic.variables.keys())\n",
    "\n",
    "\n",
    "\n",
    "vars = tide.variables.keys()\n",
    "for var in vars:\n",
    "    print(np.shape(tide.variables[var][:]))\n"
   ]
  }
 ],
 "metadata": {
  "kernelspec": {
   "display_name": "PFM-env",
   "language": "python",
   "name": "python3"
  },
  "language_info": {
   "codemirror_mode": {
    "name": "ipython",
    "version": 3
   },
   "file_extension": ".py",
   "mimetype": "text/x-python",
   "name": "python",
   "nbconvert_exporter": "python",
   "pygments_lexer": "ipython3",
   "version": "3.13.2"
  }
 },
 "nbformat": 4,
 "nbformat_minor": 2
}
