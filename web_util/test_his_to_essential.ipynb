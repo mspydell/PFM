{
 "cells": [
  {
   "cell_type": "code",
   "execution_count": 1,
   "metadata": {},
   "outputs": [
    {
     "name": "stderr",
     "output_type": "stream",
     "text": [
      "/home/mspydell/models/PFM_root/PFM/web_util/../sdpm_py_util/plotting_functions.py:2104: SyntaxWarning: \"is not\" with 'str' literal. Did you mean \"!=\"?\n",
      "  all_observed_v2 = [t if t is not '' else '-9999' for t in all_observed_v]\n",
      "/home/mspydell/models/PFM_root/PFM/web_util/../sdpm_py_util/plotting_functions.py:2105: SyntaxWarning: \"is not\" with 'str' literal. Did you mean \"!=\"?\n",
      "  all_predicted_v2 = [t if t is not '' else '-9999' for t in all_predicted_v]\n"
     ]
    }
   ],
   "source": [
    "import os\n",
    "import subprocess\n",
    "import sys\n",
    "sys.path.append('../sdpm_py_util')\n",
    "sys.path.append('../web_util')\n",
    "import plotting_functions as pltfuns\n",
    "import atm_functions as atmfuns\n",
    "import netCDF4 as nc\n",
    "import web_functions as webfuns\n",
    "from get_PFM_info import get_PFM_info\n",
    "import matplotlib.pyplot as plt\n",
    "import numpy as np\n",
    "from datetime import datetime, timedelta\n"
   ]
  },
  {
   "cell_type": "code",
   "execution_count": 5,
   "metadata": {},
   "outputs": [
    {
     "name": "stdout",
     "output_type": "stream",
     "text": [
      "ssh\n",
      "2025-05-11T12\n",
      "2025-05-12T01\n",
      "458800\n"
     ]
    }
   ],
   "source": [
    "fn = 'hy_ssh_2025-05-11T12:00_2025-05-12T01:00.nc'\n",
    "var = fn[-40:-37] # this is variable we are checking\n",
    "t_fore = fn[-36:-23] # this is the hycom forecast time\n",
    "t0 = fn[-19:-6] # this is the timestamp within the hycom forecast\n",
    "\n",
    "fullfn = '/scratch/PFM_Simulations/hycom_data/' + fn\n",
    "file_size_bytes = os.path.getsize(fullfn) # check file size\n",
    "\n",
    "print(var)\n",
    "print(t_fore)\n",
    "print(t0)\n",
    "print(file_size_bytes)"
   ]
  },
  {
   "cell_type": "code",
   "execution_count": null,
   "metadata": {},
   "outputs": [],
   "source": [
    "\n",
    "PFM = get_PFM_info()\n",
    "yyyymmddhh0 = PFM['fetch_time'].strftime(\"%Y%m%d%H\")\n",
    "ftime = '2025050712'\n",
    "ftime = '2025050800'\n",
    "print(yyyymmddhh0)\n",
    "\n",
    "fnms, fnms_tot, fnms_out, cmds_tot = atmfuns.get_ecmwf_grib_files_lists_v2(ftime,yyyymmddhh0)\n",
    "print(len(cmds_tot))\n",
    "fnms_out[0]\n"
   ]
  },
  {
   "cell_type": "code",
   "execution_count": null,
   "metadata": {},
   "outputs": [],
   "source": [
    "\n",
    "#cmd_list = ['python','atm_functions.py','get_ecmwf_forecast_grbs',yyyymmddhh0]\n",
    "cmd_list = ['python','atm_functions.py','get_ecmwf_forecast_grbs_v2',ftime,yyyymmddhh0]\n",
    "os.chdir('../sdpm_py_util')\n",
    "ret5 = subprocess.run(cmd_list)   \n",
    "print(ret5)\n",
    "\n"
   ]
  },
  {
   "cell_type": "code",
   "execution_count": 2,
   "metadata": {},
   "outputs": [
    {
     "ename": "NameError",
     "evalue": "name 'yyyymmddhh0' is not defined",
     "output_type": "error",
     "traceback": [
      "\u001b[31m---------------------------------------------------------------------------\u001b[39m",
      "\u001b[31mNameError\u001b[39m                                 Traceback (most recent call last)",
      "\u001b[36mCell\u001b[39m\u001b[36m \u001b[39m\u001b[32mIn[2]\u001b[39m\u001b[32m, line 5\u001b[39m\n\u001b[32m      2\u001b[39m ftime = \u001b[33m'\u001b[39m\u001b[33m2025050712\u001b[39m\u001b[33m'\u001b[39m\n\u001b[32m      4\u001b[39m \u001b[38;5;66;03m#cmd_list = ['python','atm_functions.py','get_ecmwf_forecast_grbs',yyyymmddhh0]\u001b[39;00m\n\u001b[32m----> \u001b[39m\u001b[32m5\u001b[39m cmd_list = [\u001b[33m'\u001b[39m\u001b[33mpython\u001b[39m\u001b[33m'\u001b[39m,\u001b[33m'\u001b[39m\u001b[33matm_functions.py\u001b[39m\u001b[33m'\u001b[39m,\u001b[33m'\u001b[39m\u001b[33mget_ecmwf_forecast_grbs_v2\u001b[39m\u001b[33m'\u001b[39m,ftime,\u001b[43myyyymmddhh0\u001b[49m]\n\u001b[32m      6\u001b[39m ret5 = subprocess.run(cmd_list)   \n",
      "\u001b[31mNameError\u001b[39m: name 'yyyymmddhh0' is not defined"
     ]
    }
   ],
   "source": [
    "\n",
    "os.chdir('../sdpm_py_util')\n",
    "ftime = '2025050712'\n",
    "\n",
    "#cmd_list = ['python','atm_functions.py','get_ecmwf_forecast_grbs',yyyymmddhh0]\n",
    "cmd_list = ['python','atm_functions.py','get_ecmwf_forecast_grbs_v2',ftime,yyyymmddhh0]\n",
    "ret5 = subprocess.run(cmd_list)   \n",
    "\n"
   ]
  },
  {
   "cell_type": "code",
   "execution_count": null,
   "metadata": {},
   "outputs": [],
   "source": [
    "\n",
    "cmd_list = ['python','atm_functions.py','ecmwf_grib_2_dict_all',yyyymmddhh0]\n",
    "ret5 = subprocess.run(cmd_list)   \n",
    "os.chdir('../web_util')\n"
   ]
  },
  {
   "cell_type": "code",
   "execution_count": null,
   "metadata": {},
   "outputs": [
    {
     "name": "stdout",
     "output_type": "stream",
     "text": [
      "dict_keys(['info_file', 'executable_dir', 'lv4_blank_name', 'lv4_yaml_file', 'lv4_executable', 'lv4_blank_swan_name', 'lv4_coupling_name', 'lv4_coawst_varinfo_full', 'lv4_nwave_dirs', 'lv4_clm_file', 'lv4_nud_file', 'lv4_river_file', 'lv1_grid_file_full', 'lv2_grid_file_full', 'lv3_grid_file_full', 'lv4_grid_file_full', 'forecast_days', 'atm_dt_hr', 'ecmwf_dir', 'ecmwf_all_pkl_name', 'ecmwf_pkl_roms_vars', 'ecmwf_pkl_on_roms_grid', 'swan_to_roms', 'lv1_max_time_str', 'lv2_max_time_str', 'lv3_max_time_str', 'lv4_max_time_str', 'run_type', 'lo_env', 'parent', 'lv1_run_dir', 'lv1_forc_dir', 'lv1_tide_dir', 'lv1_grid_dir', 'lv1_his_dir', 'lv1_plot_dir', 'lv2_run_dir', 'lv2_forc_dir', 'lv2_grid_dir', 'lv2_his_dir', 'lv2_plot_dir', 'lv3_run_dir', 'lv3_forc_dir', 'lv3_grid_dir', 'lv3_his_dir', 'lv3_plot_dir', 'lv4_run_dir', 'lv4_forc_dir', 'lv4_grid_dir', 'lv4_his_dir', 'lv4_plot_dir', 'lv1_grid_file', 'lv2_grid_file', 'lv3_grid_file', 'lv4_grid_file', 'lv4_model', 'hycom_data_dir', 'cdip_data_dir', 'lv1_tides_file', 'atm_tmp_pckl_file', 'lv1_depth_file', 'lv1_ocn_tmp_pckl_file', 'lv1_ocnR_tmp_pckl_file', 'lv1_ocnIC_tmp_pckl_file', 'lv1_ocn_tmp_nck_file', 'lv1_ocnBC_tmp_pckl_file', 'atm_tmp_LV1_pckl_file', 'lv1_atm_file', 'lv1_ini_file', 'lv1_bc_file', 'lv1_executable', 'lv2_executable', 'lv3_executable', 'lv2_ocnIC_tmp_pckl_file', 'lv2_ocnBC_tmp_pckl_file', 'atm_tmp_LV2_pckl_file', 'lv2_atm_file', 'lv2_ini_file', 'lv2_bc_file', 'lv3_ocnIC_tmp_pckl_file', 'lv3_ocnBC_tmp_pckl_file', 'atm_tmp_LV3_pckl_file', 'lv3_atm_file', 'lv3_ini_file', 'lv3_bc_file', 'lv4_ocnIC_tmp_pckl_file', 'lv4_ocnBC_tmp_pckl_file', 'atm_tmp_LV4_pckl_file', 'lv4_atm_file', 'lv4_ini_file', 'lv4_bc_file', 'lv4_swan_pckl_file', 'lv4_swan_grd_file', 'lv4_swan_bot_file', 'lv4_swan_bnd_file', 'lv4_swan_wnd_file', 'lv4_swan_dt_sec', 'swan_init_txt_full', 'lv4_swan_rst_int_hr', 'river_pckl_file_full', 'modtime0', 'roms_time_units', 'ds_fmt', 'ndefhis', 'daystep', 'daystep_ocn', 'daystep_atm', 'ocn_model', 'atm_model', 'atm_get_method', 'ocn_get_method', 'latlonbox', 'stretching', 'gridinfo', 'tinfo', 'outputinfo', 'restart_files_dir', 'lv1_use_restart', 'lv2_use_restart', 'lv3_use_restart', 'lv4_use_restart', 'lv4_swan_use_rst', 'start_time', 'utc_time', 'yyyymmdd', 'hhmm', 'fetch_time', 'fore_end_time', 'lv1_his_name', 'lv1_rst_name', 'lv1_his_name_full', 'lv1_rst_name_full', 'lv2_his_name', 'lv2_rst_name', 'lv2_his_name_full', 'lv2_rst_name_full', 'lv3_his_name', 'lv3_rst_name', 'lv3_his_name_full', 'lv3_rst_name_full', 'lv4_his_name', 'lv4_rst_name', 'lv4_swan_rst_name', 'lv4_his_name_full', 'lv4_rst_name_full', 'lv4_swan_rst_name_full', 'lv4_swan_check_freq_sec', 'lv1_nrrec'])\n",
      "4.375\n"
     ]
    },
    {
     "ename": "KeyError",
     "evalue": "('L1', 'dtsec')",
     "output_type": "error",
     "traceback": [
      "\u001b[31m---------------------------------------------------------------------------\u001b[39m",
      "\u001b[31mKeyError\u001b[39m                                  Traceback (most recent call last)",
      "\u001b[36mCell\u001b[39m\u001b[36m \u001b[39m\u001b[32mIn[8]\u001b[39m\u001b[32m, line 4\u001b[39m\n\u001b[32m      2\u001b[39m \u001b[38;5;28mprint\u001b[39m(PFM.keys())\n\u001b[32m      3\u001b[39m \u001b[38;5;28mprint\u001b[39m(PFM[\u001b[33m'\u001b[39m\u001b[33mforecast_days\u001b[39m\u001b[33m'\u001b[39m])\n\u001b[32m----> \u001b[39m\u001b[32m4\u001b[39m \u001b[38;5;28mprint\u001b[39m(\u001b[43mPFM\u001b[49m\u001b[43m[\u001b[49m\u001b[33;43m'\u001b[39;49m\u001b[33;43mtinfo\u001b[39;49m\u001b[33;43m'\u001b[39;49m\u001b[43m]\u001b[49m\u001b[43m[\u001b[49m\u001b[33;43m'\u001b[39;49m\u001b[33;43mL1\u001b[39;49m\u001b[33;43m'\u001b[39;49m\u001b[43m,\u001b[49m\u001b[33;43m'\u001b[39;49m\u001b[33;43mdtsec\u001b[39;49m\u001b[33;43m'\u001b[39;49m\u001b[43m]\u001b[49m)\n",
      "\u001b[31mKeyError\u001b[39m: ('L1', 'dtsec')"
     ]
    }
   ],
   "source": [
    "PFM = get_PFM_info()\n",
    "print(PFM.keys())\n",
    "print(PFM['forecast_days'])\n"
   ]
  },
  {
   "cell_type": "code",
   "execution_count": null,
   "metadata": {},
   "outputs": [],
   "source": [
    "\n",
    "fn='/scratch/PFM_Simulations/hycom_data/hy_ssh_2025-04-17T12:00_2025-04-19T13:00.nc'\n",
    "tstr = fn[-19:-3]\n",
    "tdt  = datetime.strptime(tstr,'%Y-%m-%dT%H:%M')\n",
    "ds = nc.Dataset(fn)\n",
    "zeta = ds.variables['surf_el']\n",
    "print(np.max(np.abs(zeta[:])))\n",
    "print(zeta[0:10,0:10])\n",
    "print(ds.variables['surf_el'].units)\n",
    "print(tstr)\n",
    "print(tdt)\n"
   ]
  },
  {
   "cell_type": "code",
   "execution_count": 11,
   "metadata": {},
   "outputs": [
    {
     "name": "stdout",
     "output_type": "stream",
     "text": [
      "dict_keys(['lat', 'lon', 'surf_el', 'tau', 'time'])\n",
      "[221773.]\n",
      "hours since 2000-01-01 00:00:00\n"
     ]
    }
   ],
   "source": [
    "\n",
    "\n",
    "ds = nc.Dataset(fn)\n",
    "vars = ds.variables.keys()\n",
    "print(vars)\n",
    "print(ds.variables['time'][:])\n",
    "# [221774.]\n",
    "print(ds.variables['time'].units)\n",
    "\n"
   ]
  },
  {
   "cell_type": "code",
   "execution_count": 74,
   "metadata": {},
   "outputs": [],
   "source": [
    "def webnctime_to_datetime(fn,timezone):\n",
    "    ds = nc.Dataset(fn)\n",
    "    time = ds.variables['time'][:]\n",
    "    tref = datetime.strptime('19990101','%Y%m%d')\n",
    "    times_utc = tref + time * timedelta(days=1)\n",
    "    if timezone=='PDT':\n",
    "        toff_hr = -7.0\n",
    "    elif timezone=='PST':\n",
    "        toff_hr = -8.0\n",
    "\n",
    "    times_dt = times_utc + toff_hr/24.0 * timedelta(days=1)\n",
    "\n",
    "    return times_dt"
   ]
  },
  {
   "cell_type": "code",
   "execution_count": 2,
   "metadata": {},
   "outputs": [],
   "source": [
    "\n",
    "fn_grd = '/scratch/PFM_Simulations/Grids/GRID_SDTJRE_LV4_mss_oct2024.nc'\n",
    "fn_his = '/scratch/PFM_Simulations/LV4_Forecast/His/LV4_ocean_his_202505060000.nc'\n",
    "fn_web = '/scratch/PFM_Simulations/LV4_Forecast/His/web_data_2025050600.nc'\n",
    "\n",
    "#fn_his='/dataSIO/PFM_Simulations/Archive/LV4_His/LV4_ocean_his_202505060000.nc'\n",
    "#fn_web='/dataSIO/PFM_Simulations/Archive/web/web_data_2025050600.nc'\n"
   ]
  },
  {
   "cell_type": "code",
   "execution_count": 80,
   "metadata": {},
   "outputs": [
    {
     "name": "stdout",
     "output_type": "stream",
     "text": [
      "\u001b[31mType:\u001b[39m        MaskedArray\n",
      "\u001b[31mString form:\u001b[39m\n",
      "[datetime.datetime(2025, 4, 15, 17, 0)\n",
      "           datetime.datetime(2025, 4, 15, 18, 0)\n",
      "           datetime.datetime( <...> 025, 4, 20, 15, 0)\n",
      "           datetime.datetime(2025, 4, 20, 16, 0)\n",
      "           datetime.datetime(2025, 4, 20, 17, 0)]\n",
      "\u001b[31mLength:\u001b[39m      121\n",
      "\u001b[31mFile:\u001b[39m        ~/anaconda3/envs/PFM-env/lib/python3.13/site-packages/numpy/ma/__init__.py\n",
      "\u001b[31mDocstring:\u001b[39m  \n",
      "An array class with possibly masked values.\n",
      "\n",
      "Masked values of True exclude the corresponding element from any\n",
      "computation.\n",
      "\n",
      "Construction::\n",
      "\n",
      "  x = MaskedArray(data, mask=nomask, dtype=None, copy=False, subok=True,\n",
      "                  ndmin=0, fill_value=None, keep_mask=True, hard_mask=None,\n",
      "                  shrink=True, order=None)\n",
      "\n",
      "Parameters\n",
      "----------\n",
      "data : array_like\n",
      "    Input data.\n",
      "mask : sequence, optional\n",
      "    Mask. Must be convertible to an array of booleans with the same\n",
      "    shape as `data`. True indicates a masked (i.e. invalid) data.\n",
      "dtype : dtype, optional\n",
      "    Data type of the output.\n",
      "    If `dtype` is None, the type of the data argument (``data.dtype``)\n",
      "    is used. If `dtype` is not None and different from ``data.dtype``,\n",
      "    a copy is performed.\n",
      "copy : bool, optional\n",
      "    Whether to copy the input data (True), or to use a reference instead.\n",
      "    Default is False.\n",
      "subok : bool, optional\n",
      "    Whether to return a subclass of `MaskedArray` if possible (True) or a\n",
      "    plain `MaskedArray`. Default is True.\n",
      "ndmin : int, optional\n",
      "    Minimum number of dimensions. Default is 0.\n",
      "fill_value : scalar, optional\n",
      "    Value used to fill in the masked values when necessary.\n",
      "    If None, a default based on the data-type is used.\n",
      "keep_mask : bool, optional\n",
      "    Whether to combine `mask` with the mask of the input data, if any\n",
      "    (True), or to use only `mask` for the output (False). Default is True.\n",
      "hard_mask : bool, optional\n",
      "    Whether to use a hard mask or not. With a hard mask, masked values\n",
      "    cannot be unmasked. Default is False.\n",
      "shrink : bool, optional\n",
      "    Whether to force compression of an empty mask. Default is True.\n",
      "order : {'C', 'F', 'A'}, optional\n",
      "    Specify the order of the array.  If order is 'C', then the array\n",
      "    will be in C-contiguous order (last-index varies the fastest).\n",
      "    If order is 'F', then the returned array will be in\n",
      "    Fortran-contiguous order (first-index varies the fastest).\n",
      "    If order is 'A' (default), then the returned array may be\n",
      "    in any order (either C-, Fortran-contiguous, or even discontiguous),\n",
      "    unless a copy is required, in which case it will be C-contiguous.\n",
      "\n",
      "Examples\n",
      "--------\n",
      ">>> import numpy as np\n",
      "\n",
      "The ``mask`` can be initialized with an array of boolean values\n",
      "with the same shape as ``data``.\n",
      "\n",
      ">>> data = np.arange(6).reshape((2, 3))\n",
      ">>> np.ma.MaskedArray(data, mask=[[False, True, False],\n",
      "...                               [False, False, True]])\n",
      "masked_array(\n",
      "  data=[[0, --, 2],\n",
      "        [3, 4, --]],\n",
      "  mask=[[False,  True, False],\n",
      "        [False, False,  True]],\n",
      "  fill_value=999999)\n",
      "\n",
      "Alternatively, the ``mask`` can be initialized to homogeneous boolean\n",
      "array with the same shape as ``data`` by passing in a scalar\n",
      "boolean value:\n",
      "\n",
      ">>> np.ma.MaskedArray(data, mask=False)\n",
      "masked_array(\n",
      "  data=[[0, 1, 2],\n",
      "        [3, 4, 5]],\n",
      "  mask=[[False, False, False],\n",
      "        [False, False, False]],\n",
      "  fill_value=999999)\n",
      "\n",
      ">>> np.ma.MaskedArray(data, mask=True)\n",
      "masked_array(\n",
      "  data=[[--, --, --],\n",
      "        [--, --, --]],\n",
      "  mask=[[ True,  True,  True],\n",
      "        [ True,  True,  True]],\n",
      "  fill_value=999999,\n",
      "  dtype=int64)\n",
      "\n",
      ".. note::\n",
      "    The recommended practice for initializing ``mask`` with a scalar\n",
      "    boolean value is to use ``True``/``False`` rather than\n",
      "    ``np.True_``/``np.False_``. The reason is :attr:`nomask`\n",
      "    is represented internally as ``np.False_``.\n",
      "\n",
      "    >>> np.False_ is np.ma.nomask\n",
      "    True"
     ]
    }
   ],
   "source": [
    "fn_web = '/scratch/PFM_Simulations/LV4_Forecast/His/web_data_2025041600.nc'\n",
    "times_dt = webnctime_to_datetime(fn_web,'PDT')\n",
    "dum = np.linspace(0,1,10)\n",
    "#dum?\n",
    "times_dt?\n",
    "#print(times_dt)"
   ]
  },
  {
   "cell_type": "code",
   "execution_count": null,
   "metadata": {},
   "outputs": [
    {
     "name": "stdout",
     "output_type": "stream",
     "text": [
      "dict_keys(['shoreline_dye_tot', 'shoreline_risk', 'map_dye_tot', 'sites_dye_tot', 'sites_risk', 'map_lat', 'map_lon', 'shoreline_lat', 'shoreline_lon', 'time', 'sites_lat', 'sites_lon', 'thresh_holds'])\n",
      "[9602.         9602.04166667 9602.08333333 9602.125      9602.16666667\n",
      " 9602.20833333 9602.25       9602.29166667 9602.33333333 9602.375\n",
      " 9602.41666667 9602.45833333 9602.5        9602.54166667 9602.58333333\n",
      " 9602.625      9602.66666667 9602.70833333 9602.75       9602.79166667\n",
      " 9602.83333333 9602.875      9602.91666667 9602.95833333 9603.\n",
      " 9603.04166667 9603.08333333 9603.125      9603.16666667 9603.20833333\n",
      " 9603.25       9603.29166667 9603.33333333 9603.375      9603.41666667\n",
      " 9603.45833333 9603.5        9603.54166667 9603.58333333 9603.625\n",
      " 9603.66666667 9603.70833333 9603.75       9603.79166667 9603.83333333\n",
      " 9603.875      9603.91666667 9603.95833333 9604.         9604.04166667\n",
      " 9604.08333333 9604.125      9604.16666667 9604.20833333 9604.25\n",
      " 9604.29166667 9604.33333333 9604.375      9604.41666667 9604.45833333\n",
      " 9604.5        9604.54166667 9604.58333333 9604.625      9604.66666667\n",
      " 9604.70833333 9604.75       9604.79166667 9604.83333333 9604.875\n",
      " 9604.91666667 9604.95833333 9605.         9605.04166667 9605.08333333\n",
      " 9605.125      9605.16666667 9605.20833333 9605.25       9605.29166667\n",
      " 9605.33333333 9605.375      9605.41666667 9605.45833333 9605.5\n",
      " 9605.54166667 9605.58333333 9605.625      9605.66666667 9605.70833333\n",
      " 9605.75       9605.79166667 9605.83333333 9605.875      9605.91666667\n",
      " 9605.95833333 9606.         9606.04166667 9606.08333333 9606.125\n",
      " 9606.16666667 9606.20833333 9606.25       9606.29166667 9606.33333333\n",
      " 9606.375      9606.41666667 9606.45833333 9606.5        9606.54166667\n",
      " 9606.58333333 9606.625      9606.66666667 9606.70833333 9606.75\n",
      " 9606.79166667 9606.83333333 9606.875      9606.91666667 9606.95833333\n",
      " 9607.        ]\n",
      "the site locations are PTJ, IB pier, Silver Strand, HdC\n",
      "['PTJ', ' IB pier', ' Silver Strand', ' HdC']\n",
      "(121, 1060)\n",
      "(121, 1060)\n",
      "(121, 1141, 486)\n",
      "(121, 4)\n",
      "(121, 4)\n",
      "(1141, 486)\n",
      "(1141, 486)\n",
      "(1060,)\n",
      "(1060,)\n",
      "(121,)\n",
      "(4,)\n",
      "(4,)\n",
      "(2,)\n"
     ]
    }
   ],
   "source": [
    "ds = nc.Dataset(fn_web)\n",
    "vars = ds.variables.keys()\n",
    "print(vars)\n",
    "print(ds.variables['time'][:])\n",
    "print(ds.getncattr('site info'))\n",
    "\n"
   ]
  },
  {
   "cell_type": "code",
   "execution_count": 4,
   "metadata": {},
   "outputs": [
    {
     "name": "stdout",
     "output_type": "stream",
     "text": [
      "/scratch/PFM_Simulations/LV4_Forecast/His/web_data_2025050600.nc\n",
      "Playas de Tijuana, Imperial Beach pier, Silver Strand, Coronado Avenida del Sol\n",
      "['Playas de Tijuana', 'Imperial Beach pier', 'Silver Strand', 'Coronado Avenida del Sol']\n",
      "[32.51997996 32.58008156 32.62491836 32.67783588]\n"
     ]
    }
   ],
   "source": [
    "\n",
    "#fn_web = '/scratch/PFM_Simulations/LV4_Forecast/His/web_data_latest.nc'\n",
    "print(fn_web)\n",
    "ds = nc.Dataset(fn_web)\n",
    "dum = ds.getncattr('site info')\n",
    "dum2 = dum[23:]\n",
    "print(dum2)\n",
    "#dum2 = dum2.remove(' ')\n",
    "sites = dum2.split(\", \")\n",
    "print(sites)\n",
    "lat_sites = ds.variables['sites_lat'][:]\n",
    "print(lat_sites)\n",
    "\n"
   ]
  },
  {
   "cell_type": "code",
   "execution_count": null,
   "metadata": {},
   "outputs": [],
   "source": [
    " "
   ]
  },
  {
   "cell_type": "code",
   "execution_count": null,
   "metadata": {},
   "outputs": [],
   "source": [
    "\n",
    "for var in vars:\n",
    "    print(np.shape(ds.variables[var][:]))\n",
    "\n",
    "\n"
   ]
  },
  {
   "cell_type": "code",
   "execution_count": 4,
   "metadata": {},
   "outputs": [
    {
     "name": "stdout",
     "output_type": "stream",
     "text": [
      "dict_keys(['shoreline_dye_tot', 'shoreline_risk', 'map_dye_tot', 'sites_dye_tot', 'sites_risk', 'shoreline_l10_dye_tot', 'map_l10_dye_tot', 'sites_l10_dye_tot', 'map_lat', 'map_lon', 'shoreline_lat', 'shoreline_lon', 'time', 'sites_lat', 'sites_lon', 'thresh_holds'])\n",
      "[-5 -3]\n"
     ]
    }
   ],
   "source": [
    "\n",
    "ds = nc.Dataset(fn_web)\n",
    "print(ds.variables.keys())\n",
    "print(ds.variables['thresh_holds'][:])"
   ]
  },
  {
   "cell_type": "code",
   "execution_count": 3,
   "metadata": {},
   "outputs": [
    {
     "name": "stdout",
     "output_type": "stream",
     "text": [
      "['Playas de Tijuana', 'Imperial Beach pier', 'Silver Strand', 'Coronado Avenida del Sol']\n",
      "Playas de Tijuana, Imperial Beach pier, Silver Strand, Coronado Avenida del Sol\n",
      "{'type': 'data for website plotting', 'time info': 'time is in days since Jan 1 1999 UTC.', 'risk info': '0 is low risk, log10 dye_tot < -5, 1 is medium, -5<log10 dye_tot <-3, high, log10 dye_tot >-3', 'site info': 'the site locations are Playas de Tijuana, Imperial Beach pier, Silver Strand, Coronado Avenida del Sol'}\n",
      "out to dotnc\n"
     ]
    }
   ],
   "source": [
    "webfuns.full_his_to_essential(fn_his,fn_grd)\n"
   ]
  },
  {
   "cell_type": "code",
   "execution_count": 2,
   "metadata": {},
   "outputs": [
    {
     "name": "stdout",
     "output_type": "stream",
     "text": [
      "...done making web nc file: 0 (0=good)\n"
     ]
    }
   ],
   "source": [
    "fn_grd = '/scratch/PFM_Simulations/Grids/GRID_SDTJRE_LV4_mss_oct2024.nc'\n",
    "fn_his = '/scratch/PFM_Simulations/LV4_Forecast/His/LV4_ocean_his_202506200000.nc'\n",
    "#fn_web = '/scratch/PFM_Simulations/LV4_Forecast/His/web_data_2025050600.nc'\n",
    "\n",
    "cmd_list = ['python','-W','ignore','web_functions.py','full_his_to_essential',fn_his,fn_grd]\n",
    "os.chdir('../web_util')\n",
    "ret6 = subprocess.run(cmd_list)   \n",
    "print('...done making web nc file: ' + str(ret6.returncode) + ' (0=good)') "
   ]
  },
  {
   "cell_type": "code",
   "execution_count": 3,
   "metadata": {},
   "outputs": [
    {
     "name": "stderr",
     "output_type": "stream",
     "text": [
      "<>:67: SyntaxWarning: invalid escape sequence '\\%'\n",
      "<>:67: SyntaxWarning: invalid escape sequence '\\%'\n",
      "<>:67: SyntaxWarning: invalid escape sequence '\\%'\n",
      "<>:67: SyntaxWarning: invalid escape sequence '\\%'\n",
      "<>:67: SyntaxWarning: invalid escape sequence '\\%'\n",
      "<>:67: SyntaxWarning: invalid escape sequence '\\%'\n",
      "<>:67: SyntaxWarning: invalid escape sequence '\\%'\n",
      "<>:67: SyntaxWarning: invalid escape sequence '\\%'\n",
      "<>:67: SyntaxWarning: invalid escape sequence '\\%'\n",
      "<>:67: SyntaxWarning: invalid escape sequence '\\%'\n",
      "/tmp/ipykernel_1684578/1071591852.py:67: SyntaxWarning: invalid escape sequence '\\%'\n",
      "  tlabs = ['','$0.001\\%$','','$0.01\\%$','','$0.1\\%$','','$1\\%$','','$10\\%$']\n",
      "/tmp/ipykernel_1684578/1071591852.py:67: SyntaxWarning: invalid escape sequence '\\%'\n",
      "  tlabs = ['','$0.001\\%$','','$0.01\\%$','','$0.1\\%$','','$1\\%$','','$10\\%$']\n",
      "/tmp/ipykernel_1684578/1071591852.py:67: SyntaxWarning: invalid escape sequence '\\%'\n",
      "  tlabs = ['','$0.001\\%$','','$0.01\\%$','','$0.1\\%$','','$1\\%$','','$10\\%$']\n",
      "/tmp/ipykernel_1684578/1071591852.py:67: SyntaxWarning: invalid escape sequence '\\%'\n",
      "  tlabs = ['','$0.001\\%$','','$0.01\\%$','','$0.1\\%$','','$1\\%$','','$10\\%$']\n",
      "/tmp/ipykernel_1684578/1071591852.py:67: SyntaxWarning: invalid escape sequence '\\%'\n",
      "  tlabs = ['','$0.001\\%$','','$0.01\\%$','','$0.1\\%$','','$1\\%$','','$10\\%$']\n"
     ]
    },
    {
     "name": "stdout",
     "output_type": "stream",
     "text": [
      "[-5 -3]\n"
     ]
    },
    {
     "data": {
      "image/png": "[encoded data removed]",
      "text/plain": [
       "<Figure size 525x700 with 2 Axes>"
      ]
     },
     "metadata": {},
     "output_type": "display_data"
    }
   ],
   "source": [
    "fn_his = '/scratch/PFM_Simulations/LV4_Forecast/His/LV4_ocean_his_202506200000.nc'\n",
    "fn_web = '/scratch/PFM_Simulations/LV4_Forecast/His/web_data_2025062000.nc'\n",
    "ds = nc.Dataset(fn_web)\n",
    "#print(ds.variables.keys())\n",
    "ds_his = nc.Dataset(fn_his)\n",
    "\n",
    "shore = dict()\n",
    "dye = dict()\n",
    "sites = dict()\n",
    "shore['Lat'] = ds.variables['shoreline_lat'][:]\n",
    "shore['Lon'] = ds.variables['shoreline_lon'][:]\n",
    "shore['Risk'] = ds.variables['shoreline_risk'][:]\n",
    "dye['Lat'] = ds.variables['map_lat'][:]\n",
    "dye['Lon'] = ds.variables['map_lon'][:]\n",
    "dye['Dye_tot'] = ds.variables['map_dye_tot'][:]\n",
    "dye['l10_Dye_tot'] = ds.variables['map_l10_dye_tot'][:]\n",
    "sites['Lat'] = ds.variables['sites_lat'][:]\n",
    "sites['Lon'] = ds.variables['sites_lon'][:]\n",
    "sites['Risk'] = ds.variables['sites_risk'][:]\n",
    "\n",
    "rlvs = ds.variables['thresh_holds'][:] \n",
    "print(rlvs)\n",
    "\n",
    "iit = 0 # the time index\n",
    "land = ds_his.variables['wetdry_mask_rho'][iit,:,:]\n",
    "#print(land[500,:])\n",
    "# make the risk colormap\n",
    "color_map = {\n",
    "    0: 'green',\n",
    "    1: 'yellow',\n",
    "    2: 'red'\n",
    "}\n",
    "# associate the colormap with the numbers\n",
    "# the .nc data is in 3 dictionaries\n",
    "colors = [color_map[number] for number in shore['Risk'][iit,:]]\n",
    "colors2 = [color_map[number] for number in sites['Risk'][iit,:]]\n",
    "\n",
    "#cmap1 = plt.get_cmap('bone')\n",
    "cmap1 = plt.get_cmap('pink')\n",
    "levs1 = np.array([-3,.5])\n",
    "cmap = plt.get_cmap('magma_r')\n",
    "#cmap = plt.get_cmap('YlOrBr')\n",
    "#cmap = plt.get_cmap('pink_r')\n",
    "plevs = np.arange(-5.5,-0.75,0.25)\n",
    "#plevs = np.arange(-6.5,-1.25,0.5)\n",
    "\n",
    "#fig, ax = plt.subplots()\n",
    "#plt.rcParams[\"figure.figsize\"] = (6,8)\n",
    "#fig, ax = plt.figure(figsize=(5,8))\n",
    "\n",
    "\n",
    "fig = plt.figure(figsize=(7*0.75, 7),facecolor='none')\n",
    "cl = plt.contourf(dye['Lon'],dye['Lat'],land,levs1,cmap=cmap1)\n",
    "\n",
    "dye2 = dye['l10_Dye_tot'][iit,:,:]\n",
    "#dye2 = dye['Dye_tot'][iit,:,:]\n",
    "#msk = dye2==0\n",
    "#dye2[msk]=0.0000000001\n",
    "#l10dye = np.log10(dye2)\n",
    "l10dye = dye2\n",
    "cset=plt.contourf(dye['Lon'],dye['Lat'],l10dye, plevs, cmap=cmap,extend='max')\n",
    "#cset=plt.contour(dye['Lon'],dye['Lat'],l10dye, np.array([-6.0,-5.0]),colors=['y','r'],linewidth=3)\n",
    "#plt.rcParams['text.usetex'] = True\n",
    "\n",
    "#cbar = fig.colorbar(cset, orientation='vertical', pad = 0.05)\n",
    "#cbar = fig.colorbar(im, ticks=[-5.5, -5,-4.5, -4, 1], format=mticker.FixedFormatter(['0', '25', '50', '75', '100']))\n",
    "tlabs = ['','$0.001\\%$','','$0.01\\%$','','$0.1\\%$','','$1\\%$','','$10\\%$']\n",
    "cbar = fig.colorbar(cset,orientation='vertical', pad = 0.05)\n",
    "cbar.set_ticks(np.arange(-5.5,-.5,.5))\n",
    "cbar.set_ticklabels(tlabs)\n",
    "cbar.ax.tick_params(colors='white')\n",
    "# Set the color of the colorbar outline\n",
    "cbar.outline.set_edgecolor('white')\n",
    "# Set the color of the colorbar label\n",
    "#cbar.set_label('Colorbar Label', color='white')\n",
    "\n",
    "plt.scatter(shore['Lon'],shore['Lat'], s=25, c=colors, alpha=0.5)\n",
    "plt.scatter(sites['Lon'],sites['Lat'], s=125, c=colors2, alpha=0.99 , edgecolors='black', linewidths=1)\n",
    "x0=-117.3\n",
    "dx=0.1064\n",
    "y0=32.45\n",
    "dy=0.0902\n",
    "xx=np.array([x0,x0,x0+dx])\n",
    "yy=np.array([y0+dy,y0,y0])\n",
    "plt.plot(dye['Lon'][:,0],dye['Lat'][:,0],'k',linewidth=0.75)\n",
    "plt.plot(dye['Lon'][:,-1],dye['Lat'][:,-1],'k',linewidth=0.75)\n",
    "plt.plot(dye['Lon'][0,:],dye['Lat'][0,:],'k',linewidth=0.75)\n",
    "plt.plot(dye['Lon'][-1,:],dye['Lat'][-1,:],'k',linewidth=0.75)\n",
    "#plt.plot(xx,yy,'-k')\n",
    "plt.title('Risk levels are: ' + str(rlvs))\n",
    "#plt.xlim(-117.15,-117.12)\n",
    "#plt.ylim(32.55,32.65)\n",
    "# !!! exporting to pdf does not result in transparent background\n",
    "plt.savefig(\"colorbar_pcent.pdf\", format=\"pdf\", bbox_inches=\"tight\",transparent=True)\n",
    "plt.savefig('colorbar_pcent.png', format='png', dpi=600, transparent=True)\n"
   ]
  },
  {
   "cell_type": "code",
   "execution_count": 13,
   "metadata": {},
   "outputs": [
    {
     "data": {
      "image/png": "[encoded data removed]",
      "text/plain": [
       "<Figure size 640x480 with 2 Axes>"
      ]
     },
     "metadata": {},
     "output_type": "display_data"
    }
   ],
   "source": [
    "\n",
    "#fig = plt.figure(figsize=(7*0.75, 7),facecolor='none')\n",
    "fig, ax = plt.subplots()\n",
    "\n",
    "cl = ax.contourf(dye['Lon'],dye['Lat'],land,levs1,cmap=cmap1)\n",
    "\n",
    "dye2 = dye['l10_Dye_tot'][iit,:,:]\n",
    "l10dye = dye2\n",
    "cset=ax.contourf(dye['Lon'],dye['Lat'],l10dye, plevs, cmap=cmap,extend='max')\n",
    "tlabs = ['','$10^{-5}$','','$10^{-4}$','','$10^{-3}$','','$10^{-2}$','','$10^{-1}$']\n",
    "cbar = fig.colorbar(cset,orientation='vertical', pad = 0.05)\n",
    "cbar.set_ticks(np.arange(-5.5,-.5,.5))\n",
    "cbar.set_ticklabels(tlabs)\n",
    "cbar.ax.tick_params(colors='white')\n",
    "# Set the color of the colorbar outline\n",
    "cbar.outline.set_edgecolor('white')\n",
    "# Set the color of the colorbar label\n",
    "#cbar.set_label('Colorbar Label', color='white')\n",
    "\n",
    "ax.set_axis_off()\n",
    "\n",
    "\n",
    "\n",
    "\n"
   ]
  },
  {
   "cell_type": "code",
   "execution_count": 47,
   "metadata": {},
   "outputs": [
    {
     "data": {
      "text/plain": [
       "<matplotlib.image.AxesImage at 0x15540271c910>"
      ]
     },
     "execution_count": 47,
     "metadata": {},
     "output_type": "execute_result"
    },
    {
     "data": {
      "image/png": "[encoded data removed]",
      "text/plain": [
       "<Figure size 640x480 with 1 Axes>"
      ]
     },
     "metadata": {},
     "output_type": "display_data"
    }
   ],
   "source": [
    "fig, ax = plt.subplots()\n",
    "ax.imshow(l10dye[900:950,300:400], origin='lower')\n",
    "#ax.imshow(l10dye[700:740,305:350], origin='lower')\n"
   ]
  },
  {
   "cell_type": "code",
   "execution_count": 48,
   "metadata": {},
   "outputs": [
    {
     "data": {
      "image/png": "[encoded data removed]",
      "text/plain": [
       "<Figure size 640x480 with 1 Axes>"
      ]
     },
     "metadata": {},
     "output_type": "display_data"
    }
   ],
   "source": [
    "fig, ax = plt.subplots()\n",
    "for ii in [700,720,740,760]:\n",
    "    ax.plot(l10dye[ii,305:350],'-o')\n",
    "    ax.plot(l10dye[ii+200,305:350])\n"
   ]
  },
  {
   "cell_type": "code",
   "execution_count": null,
   "metadata": {},
   "outputs": [],
   "source": [
    "\n",
    "print(l10dye[700:702,305:350])\n"
   ]
  },
  {
   "cell_type": "code",
   "execution_count": 36,
   "metadata": {},
   "outputs": [
    {
     "data": {
      "image/png": "[encoded data removed]",
      "text/plain": [
       "<Figure size 640x480 with 1 Axes>"
      ]
     },
     "metadata": {},
     "output_type": "display_data"
    }
   ],
   "source": [
    "plevs2=np.linspace(-5,0,501)\n",
    "fig, ax = plt.subplots()\n",
    "cset=ax.contourf(dye['Lon'][700:710,305:350],dye['Lat'][700:710,305:350],l10dye[700:710,305:350], plevs2)\n"
   ]
  },
  {
   "cell_type": "code",
   "execution_count": null,
   "metadata": {},
   "outputs": [],
   "source": [
    "\n",
    "## test river stuff here\n",
    "Q2 = np.arange(0,300,.1)\n",
    "R1 = 0.65\n",
    "R2 = 0.045\n",
    "Q00 = 2.25\n",
    "WW1 = R1*Q2\n",
    "WW2 = R2*Q2 + (R1-R2)*Q00\n",
    "msk = Q2>Q00\n",
    "WW1[msk] = WW2[msk]\n",
    "dye2 = WW1 / Q2\n",
    "\n",
    "\n",
    "fig, ax = plt.subplots()\n",
    "ax.loglog(Q2,dye2)\n"
   ]
  },
  {
   "cell_type": "code",
   "execution_count": null,
   "metadata": {},
   "outputs": [
    {
     "name": "stdout",
     "output_type": "stream",
     "text": [
      "testing. loop: 0  of  4\n",
      "pausing  15  sec\n",
      "testing. loop: 0  of  10\n",
      "pausing  4  sec\n",
      "testing. loop: 1  of  10\n",
      "pausing  4  sec\n",
      "testing. loop: 2  of  10\n",
      "pausing  4  sec\n",
      "testing. loop: 3  of  10\n",
      "pausing  4  sec\n",
      "testing. loop: 1  of  4\n",
      "pausing  15  sec\n",
      "testing. loop: 4  of  10\n",
      "pausing  4  sec\n",
      "testing. loop: 5  of  10\n",
      "pausing  4  sec\n",
      "testing. loop: 6  of  10\n",
      "pausing  4  sec\n",
      "testing. loop: 7  of  10\n",
      "pausing  4  sec\n",
      "testing. loop: 2  of  4\n",
      "pausing  15  sec\n",
      "testing. loop: 8  of  10\n",
      "pausing  4  sec\n",
      "testing. loop: 9  of  10\n",
      "pausing  4  sec\n"
     ]
    },
    {
     "name": "stdout",
     "output_type": "stream",
     "text": [
      "testing. loop: 3  of  4\n",
      "pausing  15  sec\n"
     ]
    }
   ],
   "source": [
    "# gonna test popen and run here...\n",
    "os.chdir('../sdpm_py_util')\n",
    "cmd_list = ['python','-W','ignore','plotting_functions.py','test_popen','15','4']\n",
    "ret6 = subprocess.Popen(cmd_list)\n",
    "cmd_list = ['python','-W','ignore','plotting_functions.py','test_popen','4','10']\n",
    "ret7 = subprocess.run(cmd_list)\n",
    "\n",
    "\n"
   ]
  },
  {
   "cell_type": "code",
   "execution_count": 56,
   "metadata": {},
   "outputs": [
    {
     "name": "stdout",
     "output_type": "stream",
     "text": [
      "dict_keys(['xl', 'el', 'JPRJ', 'spherical', 'depthmin', 'depthmax', 'hraw', 'h', 'f', 'pm', 'pn', 'dndx', 'dmde', 'x_rho', 'y_rho', 'x_psi', 'y_psi', 'x_u', 'y_u', 'x_v', 'y_v', 'lat_rho', 'lon_rho', 'lat_psi', 'lon_psi', 'lat_u', 'lon_u', 'lat_v', 'lon_v', 'mask_rho', 'mask_u', 'mask_v', 'mask_psi', 'angle'])\n",
      "dict_keys(['Tair', 'Pair', 'Qair', 'Uwind', 'Vwind', 'rain', 'swrad', 'lwrad', 'lwrad_down', 'lat', 'lon', 'ocean_time', 'tair_time', 'pair_time', 'qair_time', 'wind_time', 'rain_time', 'srf_time', 'lrf_time'])\n",
      "dict_keys(['temp_south', 'salt_south', 'u_south', 'v_south', 'ubar_south', 'vbar_south', 'zeta_south', 'temp_north', 'salt_north', 'u_north', 'v_north', 'ubar_north', 'vbar_north', 'zeta_north', 'temp_west', 'salt_west', 'u_west', 'v_west', 'ubar_west', 'vbar_west', 'zeta_west', 'Vtransform', 'Vstretching', 'theta_s', 'theta_b', 'Tcline', 'hc', 'ocean_time', 'zeta_time', 'v2d_time', 'v3d_time', 'salt_time', 'temp_time', 'Cs_r'])\n",
      "dict_keys(['tide_period', 'tide_Ephase', 'tide_Eamp', 'tide_Cphase', 'tide_Cangle', 'tide_Cmin', 'tide_Cmax'])\n",
      "dict_keys(['temp', 'salt', 'u', 'v', 'ubar', 'vbar', 'zeta', 'Vtransform', 'Vstretching', 'theta_s', 'theta_b', 'Tcline', 'hc', 'lat_rho', 'lon_rho', 'lat_u', 'lon_u', 'lat_v', 'lon_v', 'ocean_time', 'Cs_r'])\n",
      "(10,)\n",
      "(10, 390, 253)\n",
      "(10, 390, 253)\n",
      "(10, 390, 253)\n",
      "(10, 390, 253)\n",
      "(10, 390, 253)\n",
      "(10, 390, 253)\n"
     ]
    }
   ],
   "source": [
    "fngrd = '/scratch/PFM_Simulations/Grids/GRID_SDTJRE_LV1_rx020_hmask.nc'\n",
    "fnatm = '/scratch/PHM_Simulations/LV1_Forecast/Forc/LV1_ATM_FORCING.nc'\n",
    "fnbc  = '/scratch/PHM_Simulations/LV1_Forecast/Forc/LV1_OCEAN_BC.nc'\n",
    "fntide = '/scratch/matt/sdtjre_L1/roms_tide_adcirc_LV01.nc'\n",
    "fnic = '/scratch/PHM_Simulations/LV1_Forecast/Forc/LV1_OCEAN_IC.nc'\n",
    "grd = nc.Dataset(fngrd)\n",
    "atm = nc.Dataset(fnatm)\n",
    "bc = nc.Dataset(fnbc)\n",
    "tide = nc.Dataset(fntide)\n",
    "ic = nc.Dataset(fnic)\n",
    "print(grd.variables.keys())\n",
    "print(atm.variables.keys())\n",
    "print(bc.variables.keys())\n",
    "print(tide.variables.keys())\n",
    "print(ic.variables.keys())\n",
    "\n",
    "\n",
    "\n",
    "vars = tide.variables.keys()\n",
    "for var in vars:\n",
    "    print(np.shape(tide.variables[var][:]))\n"
   ]
  }
 ],
 "metadata": {
  "kernelspec": {
   "display_name": "PFM-env",
   "language": "python",
   "name": "python3"
  },
  "language_info": {
   "codemirror_mode": {
    "name": "ipython",
    "version": 3
   },
   "file_extension": ".py",
   "mimetype": "text/x-python",
   "name": "python",
   "nbconvert_exporter": "python",
   "pygments_lexer": "ipython3",
   "version": "3.13.2"
  }
 },
 "nbformat": 4,
 "nbformat_minor": 2
}
