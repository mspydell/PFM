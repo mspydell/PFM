{
 "cells": [
  {
   "cell_type": "code",
   "execution_count": 8,
   "id": "8c8f5bf1",
   "metadata": {},
   "outputs": [],
   "source": [
    "import sys\n",
    "import os\n",
    "import subprocess\n",
    "import shutil\n",
    "import numpy as np\n",
    "import netCDF4 as nc\n",
    "import matplotlib.pyplot as plt\n",
    "import seawater\n",
    "import gsw\n",
    "\n",
    "from datetime import datetime, timedelta, date\n",
    "\n",
    "\n",
    "sys.path.append('../sdpm_py_util')\n",
    "import init_funs_forecast as initfuns\n",
    "import run_funs as runfuns\n",
    "sys.path.append('/home/mspydell/models/PFM_root/PFM/driver')\n",
    "import driver_functions as driverfuns\n",
    "#from driver_run_forecast_LV1234 import driver_run_fore_LV1234\n",
    "from driver_run_pfm_phm import driver_run_pfm_phm\n"
   ]
  },
  {
   "cell_type": "code",
   "execution_count": 13,
   "id": "ff5c8b81",
   "metadata": {},
   "outputs": [
    {
     "name": "stdout",
     "output_type": "stream",
     "text": [
      "dict_keys(['shoreline_dye_tot', 'shoreline_risk', 'map_dye_tot', 'sites_dye_tot', 'sites_risk', 'shoreline_l10_dye_tot', 'map_l10_dye_tot', 'sites_l10_dye_tot', 'map_lat', 'map_lon', 'shoreline_lat', 'shoreline_lon', 'time', 'sites_lat', 'sites_lon', 'thresh_holds'])\n",
      "<class 'netCDF4.Variable'>\n",
      "float64 time(ntime)\n",
      "    _FillValue: nan\n",
      "    long_name: time in days past Jan 1, 1999\n",
      "    units: days\n",
      "unlimited dimensions: \n",
      "current shape = (121,)\n",
      "filling on\n",
      "[9694.         9694.04166667]\n",
      "2025-07-17 00:00:00\n",
      "2025-07-17 01:00:00\n"
     ]
    }
   ],
   "source": [
    "fn = '/projects/www-users/falk/PFM_Forecast/LV4_His/web_data_latest.nc'\n",
    "ds = nc.Dataset(fn)\n",
    "print(ds.variables.keys())\n",
    "print(ds.variables['time'])\n",
    "t = ds.variables['time'][:]\n",
    "print(t[0:2])\n",
    "\n",
    "t0 = datetime(1999,1,1)\n",
    "t2 = t0 + t*timedelta(days=1)\n",
    "print(t2[0])\n",
    "print(t2[1])\n",
    "\n",
    "\n"
   ]
  },
  {
   "cell_type": "code",
   "execution_count": 2,
   "id": "c3baaf08",
   "metadata": {},
   "outputs": [
    {
     "name": "stdout",
     "output_type": "stream",
     "text": [
      "...done making web nc file: 0 (0=good)\n"
     ]
    }
   ],
   "source": [
    "#pkl_fnm = '/scratch/matt/PFM_Simulations_v2/forecast_info.pkl'\n",
    "pkl_fnm = '/scratch/PFM_Simulations/forecast_info.pkl'\n",
    "\n",
    "MI = initfuns.get_model_info( pkl_fnm)\n",
    "fn_hs = MI['lv4_his_name_full']\n",
    "fn_gr = MI['lv4_grid_file']\n",
    "cmd_list = ['python','-W','ignore','web_functions.py','full_his_to_essential',fn_hs,fn_gr,pkl_fnm]\n",
    "os.chdir('../web_util')\n",
    "ret6 = subprocess.run(cmd_list)   \n",
    "print('...done making web nc file: ' + str(ret6.returncode) + ' (0=good)')  \n",
    "os.chdir('../driver')\n"
   ]
  },
  {
   "cell_type": "code",
   "execution_count": 4,
   "id": "6df7a4e1",
   "metadata": {},
   "outputs": [
    {
     "name": "stdout",
     "output_type": "stream",
     "text": [
      "now making all of the plots for the entire simulation...\n",
      "making LV1 history file plots and moving on (Popen)...\n",
      "making LV2 history file plots and moving on (Popen)...\n",
      "making LV3 history file plots and moving on (Popen)...\n",
      "making LV4 history file plots and moving on (Popen)...\n",
      "doing LV4 dye plots and waiting (Popen)...\n",
      "waiting for plotting to finish...\n",
      "getting clims...\n",
      "getting clims...\n",
      "getting clims...\n",
      "...done.\n",
      "...done.\n",
      "...done.\n",
      "getting clims...\n",
      "...done.\n",
      "...done waiting.\n",
      "plotting took:\n",
      "0:19:40.340374\n",
      "LV1 history plots made correctly:  0  (0=yes)\n",
      "LV2 history plots made correctly:  0  (0=yes)\n",
      "LV3 history plots made correctly:  0  (0=yes)\n",
      "LV4 history plots made correctly:  0  (0=yes)\n",
      "LV4 dye     plots made correctly:  0  (0=yes)\n"
     ]
    }
   ],
   "source": [
    "dt_plotting = []\n",
    "print('now making all of the plots for the entire simulation...')\n",
    "t01 = datetime.now()\n",
    "\n",
    "print('making LV1 history file plots and moving on (Popen)...')\n",
    "cmd_list = ['python','-W','ignore','plotting_functions.py','make_all_his_figures','LV1',pkl_fnm]\n",
    "os.chdir('../sdpm_py_util')\n",
    "pr1 = subprocess.Popen(cmd_list)   \n",
    "\n",
    "print('making LV2 history file plots and moving on (Popen)...')\n",
    "cmd_list = ['python','-W','ignore','plotting_functions.py','make_all_his_figures','LV2',pkl_fnm]\n",
    "pr2 = subprocess.Popen(cmd_list)   \n",
    "\n",
    "print('making LV3 history file plots and moving on (Popen)...')\n",
    "cmd_list = ['python','-W','ignore','plotting_functions.py','make_all_his_figures','LV3',pkl_fnm]\n",
    "pr3 = subprocess.Popen(cmd_list)   \n",
    "\n",
    "print('making LV4 history file plots and moving on (Popen)...')\n",
    "t01=datetime.now()\n",
    "cmd_list = ['python','-W','ignore','plotting_functions.py','make_all_his_figures','LV4',pkl_fnm]\n",
    "pr4 = subprocess.Popen(cmd_list)   \n",
    "\n",
    "print('doing LV4 dye plots and waiting (Popen)...')\n",
    "fn_gr = MI['lv4_grid_file']\n",
    "fn_hs = MI['lv4_his_name_full']\n",
    "cmd_list = ['python','-W','ignore','plotting_functions.py','make_dye_plots',fn_gr,fn_hs,pkl_fnm]\n",
    "pr5 = subprocess.Popen(cmd_list)   \n",
    "\n",
    "print('waiting for plotting to finish...')\n",
    "exit_codes = []\n",
    "for pr in [pr1,pr2,pr3,pr4,pr5]:\n",
    "    exit_codes.append(pr.wait()) # this waits for pr1...pr5 to finish\n",
    "\n",
    "t02 = datetime.now()\n",
    "dt_plotting.append(t02-t01)\n",
    "print('...done waiting.')\n",
    "print('plotting took:')\n",
    "print(t02-t01)\n",
    "print('LV1 history plots made correctly: ',exit_codes[0],' (0=yes)')\n",
    "print('LV2 history plots made correctly: ',exit_codes[1],' (0=yes)')\n",
    "print('LV3 history plots made correctly: ',exit_codes[2],' (0=yes)')\n",
    "print('LV4 history plots made correctly: ',exit_codes[3],' (0=yes)')\n",
    "print('LV4 dye     plots made correctly: ',exit_codes[4],' (0=yes)')\n"
   ]
  },
  {
   "cell_type": "code",
   "execution_count": null,
   "id": "f2445b31",
   "metadata": {},
   "outputs": [],
   "source": [
    "\n",
    "driverfuns.run_fore_LV4(pkl_fnm)"
   ]
  },
  {
   "cell_type": "code",
   "execution_count": null,
   "id": "5b9ccf05",
   "metadata": {},
   "outputs": [
    {
     "name": "stdout",
     "output_type": "stream",
     "text": [
      "[[[3.04876502 3.04876502 3.04876502 3.04876502 3.04876502]\n",
      "  [3.04876502 3.04876502 3.04876502 3.04876502 3.04876502]\n",
      "  [3.04876502 3.04876502 3.04876502 3.04876502 3.04876502]\n",
      "  [3.04876502 3.04876502 3.04876502 3.04876502 3.04876502]]\n",
      "\n",
      " [[2.99994275 2.99994275 2.99994275 2.99994275 2.99994275]\n",
      "  [2.99994275 2.99994275 2.99994275 2.99994275 2.99994275]\n",
      "  [2.99994275 2.99994275 2.99994275 2.99994275 2.99994275]\n",
      "  [2.99994275 2.99994275 2.99994275 2.99994275 2.99994275]]\n",
      "\n",
      " [[2.9345975  2.9345975  2.9345975  2.9345975  2.9345975 ]\n",
      "  [2.9345975  2.9345975  2.9345975  2.9345975  2.9345975 ]\n",
      "  [2.9345975  2.9345975  2.9345975  2.9345975  2.9345975 ]\n",
      "  [2.9345975  2.9345975  2.9345975  2.9345975  2.9345975 ]]]\n",
      "[[[3.04842826 3.04842826 3.04842826 3.04842826 3.04842826]\n",
      "  [3.04842826 3.04842826 3.04842826 3.04842826 3.04842826]\n",
      "  [3.04842826 3.04842826 3.04842826 3.04842826 3.04842826]\n",
      "  [3.04842826 3.04842826 3.04842826 3.04842826 3.04842826]]\n",
      "\n",
      " [[2.99994303 2.99994303 2.99994303 2.99994303 2.99994303]\n",
      "  [2.99994303 2.99994303 2.99994303 2.99994303 2.99994303]\n",
      "  [2.99994303 2.99994303 2.99994303 2.99994303 2.99994303]\n",
      "  [2.99994303 2.99994303 2.99994303 2.99994303 2.99994303]]\n",
      "\n",
      " [[2.9348005  2.9348005  2.9348005  2.9348005  2.9348005 ]\n",
      "  [2.9348005  2.9348005  2.9348005  2.9348005  2.9348005 ]\n",
      "  [2.9348005  2.9348005  2.9348005  2.9348005  2.9348005 ]\n",
      "  [2.9348005  2.9348005  2.9348005  2.9348005  2.9348005 ]]]\n",
      "[[[-3.36753883e-04 -3.36753883e-04 -3.36753883e-04 -3.36753883e-04\n",
      "   -3.36753883e-04]\n",
      "  [-3.36753883e-04 -3.36753883e-04 -3.36753883e-04 -3.36753883e-04\n",
      "   -3.36753883e-04]\n",
      "  [-3.36753883e-04 -3.36753883e-04 -3.36753883e-04 -3.36753883e-04\n",
      "   -3.36753883e-04]\n",
      "  [-3.36753883e-04 -3.36753883e-04 -3.36753883e-04 -3.36753883e-04\n",
      "   -3.36753883e-04]]\n",
      "\n",
      " [[ 2.77806370e-07  2.77806370e-07  2.77806370e-07  2.77806370e-07\n",
      "    2.77806370e-07]\n",
      "  [ 2.77806370e-07  2.77806370e-07  2.77806370e-07  2.77806370e-07\n",
      "    2.77806370e-07]\n",
      "  [ 2.77806370e-07  2.77806370e-07  2.77806370e-07  2.77806370e-07\n",
      "    2.77806370e-07]\n",
      "  [ 2.77806370e-07  2.77806370e-07  2.77806370e-07  2.77806370e-07\n",
      "    2.77806370e-07]]\n",
      "\n",
      " [[ 2.02995341e-04  2.02995341e-04  2.02995341e-04  2.02995341e-04\n",
      "    2.02995341e-04]\n",
      "  [ 2.02995341e-04  2.02995341e-04  2.02995341e-04  2.02995341e-04\n",
      "    2.02995341e-04]\n",
      "  [ 2.02995341e-04  2.02995341e-04  2.02995341e-04  2.02995341e-04\n",
      "    2.02995341e-04]\n",
      "  [ 2.02995341e-04  2.02995341e-04  2.02995341e-04  2.02995341e-04\n",
      "    2.02995341e-04]]]\n"
     ]
    },
    {
     "ename": "",
     "evalue": "",
     "output_type": "error",
     "traceback": [
      "\u001b[1;31mThe Kernel crashed while executing code in the current cell or a previous cell. \n",
      "\u001b[1;31mPlease review the code in the cell(s) to identify a possible cause of the failure. \n",
      "\u001b[1;31mClick <a href='https://aka.ms/vscodeJupyterKernelCrash'>here</a> for more info. \n",
      "\u001b[1;31mView Jupyter <a href='command:jupyter.viewOutput'>log</a> for further details."
     ]
    }
   ],
   "source": [
    "nt  = 2\n",
    "nz  = 3\n",
    "nlt = 4\n",
    "nln = 5\n",
    "salt = 32 + np.ones((nt,nz,nlt,nln))\n",
    "temp = 2 + np.ones((nt,nz,nlt,nln))\n",
    "pdb = 0*salt\n",
    "for a in np.arange(nz):\n",
    "    pdb[:,a,:,:] = 1000*(a-1) + 1\n",
    "    \n",
    "ptemp = 0*temp\n",
    "ptemp[0,:,:,:] = seawater.ptmp(np.squeeze(salt[0,:,:,:]), np.squeeze(temp[0,:,:,:]),np.squeeze(pdb[0,:,:,:]))\n",
    "print(ptemp[0,:,:,:])\n",
    "#print(ptemp[0,:,:,:]-temp[0,:,:,:])\n",
    "\n",
    "ptemp2 = 0*temp\n",
    "ptemp2[0,:,:,:] = gsw.pt_from_t(np.squeeze(salt[0,:,:,:]), np.squeeze(temp[0,:,:,:]),np.squeeze(pdb[0,:,:,:]),0)\n",
    "print(ptemp2[0,:,:,:])\n",
    "print(ptemp2[0,:,:,:]-ptemp[0,:,:,:])\n"
   ]
  },
  {
   "cell_type": "code",
   "execution_count": 2,
   "id": "e8cae429",
   "metadata": {},
   "outputs": [
    {
     "name": "stdout",
     "output_type": "stream",
     "text": [
      "The PID of the current process is: 2154568\n"
     ]
    }
   ],
   "source": [
    "pid = os.getpid()\n",
    "print(f\"The PID of the current process is: {pid}\")"
   ]
  },
  {
   "cell_type": "code",
   "execution_count": null,
   "id": "75e875c2",
   "metadata": {},
   "outputs": [],
   "source": [
    "\n",
    "pkl_fnm = '/scratch/PFM_Simulations/forecast_pfile.pkl'\n",
    "runfuns.run_slurm_LV4(pkl_fnm, 'fore')"
   ]
  },
  {
   "cell_type": "code",
   "execution_count": null,
   "id": "3c2844e4",
   "metadata": {},
   "outputs": [],
   "source": [
    "infile = '/home/mspydell/models/PFM_root/PFM/sdpm_py_util/pfm_input_file.py'\n",
    "pkl_fnm = '/scratch/PFM_Simulations/forecast_pfile.pkl'\n",
    "\n",
    "\n",
    "t00 = datetime.now()\n",
    "# upon initialization, make the model_info.pkl file\n",
    "initfuns.initialize_model( infile , pkl_fnm )\n",
    "\n",
    "# print info from pickle file\n",
    "initfuns.print_initial_model_info( pkl_fnm )\n"
   ]
  },
  {
   "cell_type": "code",
   "execution_count": null,
   "id": "1bb33ea3",
   "metadata": {},
   "outputs": [],
   "source": [
    "\n",
    "driver_run_fore_LV1234( infile, pkl_fnm )\n",
    "\n",
    "# to run from the command line do:\n",
    "# python driver_run_hind_LV123.py '/home/mspydell/models/PFM_root/PFM/sdpm_py_util/phm_model_info_devel.py' '/scratch/PHM_Simulations/hindcast_pfile.pkl' > hindcast.out\n"
   ]
  },
  {
   "cell_type": "code",
   "execution_count": 2,
   "id": "33fd46c7",
   "metadata": {},
   "outputs": [],
   "source": [
    "run = 'hind'\n",
    "#run = 'fore'\n",
    "if run == 'hind': # hindcasting works with this newer method (6/10/25). make sure you are in PHM-env\n",
    "    infile = '/home/mspydell/models/PFM_root/PFM/sdpm_py_util/phm_model_info_devel.py'\n",
    "    pkl_fnm = '/scratch/PHM_Simulations/hindcast_pfile.pkl'\n",
    "else:\n",
    "    infile = '/home/mspydell/models/PFM_root/PFM/sdpm_py_util/pfm_input_file.py'\n",
    "    pkl_fnm = '/scratch/PFM_Simulations/forecast_pfile.pkl'\n",
    "\n"
   ]
  },
  {
   "cell_type": "code",
   "execution_count": null,
   "id": "0cd8dc1a",
   "metadata": {},
   "outputs": [],
   "source": [
    "\n",
    "driver_run_pfm_phm( infile, pkl_fnm )\n"
   ]
  },
  {
   "cell_type": "code",
   "execution_count": null,
   "id": "6c214efe",
   "metadata": {},
   "outputs": [],
   "source": [
    "os.chdir('../driver')\n",
    "# run hindcast as subprocess...\n",
    "infile_hind = '/home/mspydell/models/PFM_root/PFM/sdpm_py_util/phm_model_info_devel.py'\n",
    "pkl_fnm_hind = '/scratch/PHM_Simulations/hindcast_pfile.pkl'\n",
    "cmd_list_hind = ['python','driver_run_pfm_phm.py',infile_hind,pkl_fnm_hind]\n",
    "ret_hind = subprocess.Popen(cmd_list_hind)     \n"
   ]
  },
  {
   "cell_type": "code",
   "execution_count": null,
   "id": "90b05279",
   "metadata": {},
   "outputs": [],
   "source": [
    "os.chdir('../driver')\n",
    "# run forecast as subprocess...\n",
    "infile_fore = '/home/mspydell/models/PFM_root/PFM/sdpm_py_util/pfm_input_file.py'\n",
    "pkl_fnm_fore = '/scratch/PFM_Simulations/forecast_pfile.pkl'\n",
    "cmd_list_fore = ['python','driver_run_pfm_phm.py',infile_fore,pkl_fnm_fore]\n",
    "ret_fore = subprocess.run(cmd_list_fore)     \n"
   ]
  },
  {
   "cell_type": "code",
   "execution_count": null,
   "id": "8b6c4dab",
   "metadata": {},
   "outputs": [],
   "source": [
    "MI = initfuns.get_model_info(pkl_fnm)\n",
    "fname_in = MI['lv1_forc_dir'] + '/' + MI['lv1_ocn_tmp_pckl_file']\n",
    "#cmd_list = ['python','/home/mspydell/models/PFM_root/PFM/sdpm_py_util/ocn_funs_forecast.py','make_tmp_hy_on_rom_pckl_files_1hrzeta',fname_in,'urm',pkl_fnm]\n",
    "cmd_list = ['python','/home/mspydell/models/PFM_root/PFM/sdpm_py_util/ocn_funs_forecast.py','make_all_tmp_pckl_ocnR_files_1hrzeta',pkl_fnm]\n",
    "ret1 = subprocess.run(cmd_list )     \n"
   ]
  },
  {
   "cell_type": "code",
   "execution_count": null,
   "id": "42551d11",
   "metadata": {},
   "outputs": [],
   "source": [
    "\n",
    "print(ret1)"
   ]
  },
  {
   "cell_type": "code",
   "execution_count": null,
   "id": "abf9032e",
   "metadata": {},
   "outputs": [],
   "source": [
    "\n",
    "\n",
    "print('making dot in dot sb ...')\n",
    "runfuns.make_LV1_dotin_and_SLURM( pkl_fnm , 'fore' )\n",
    "print('...done')\n",
    "print('running roms ...')\n",
    "runfuns.run_slurm_LV1( pkl_fnm , 'fore')\n",
    "print('...done')\n",
    "\n"
   ]
  },
  {
   "cell_type": "code",
   "execution_count": null,
   "id": "b71bf9f3",
   "metadata": {},
   "outputs": [],
   "source": [
    "runfuns.run_slurm_LV2( pkl_fnm , 'fore')"
   ]
  },
  {
   "cell_type": "code",
   "execution_count": null,
   "id": "d0ca1911",
   "metadata": {},
   "outputs": [],
   "source": [
    "driverfuns.run_fore_simulation('LV4',pkl_fnm)\n",
    "#driverfuns.run_fore_LV4(pkl_fnm)\n"
   ]
  },
  {
   "cell_type": "code",
   "execution_count": null,
   "id": "98c0c3f6",
   "metadata": {},
   "outputs": [],
   "source": [
    "\n",
    "\n",
    "os.chdir('../driver')\n",
    "cmd_list = ['python','driver_functions.py','run_fore_simulation','LV2',pkl_fnm]\n",
    "ret1 = subprocess.run(cmd_list)     \n",
    " \n"
   ]
  },
  {
   "cell_type": "code",
   "execution_count": null,
   "id": "86717fa5",
   "metadata": {},
   "outputs": [
    {
     "name": "stdout",
     "output_type": "stream",
     "text": [
      "river_time\n",
      "The number of NaNs in the array is: 0\n",
      "The mean of the entire array is: 9688.79166666663\n",
      "river_transport\n",
      "The number of NaNs in the array is: 0\n",
      "The mean of the entire array is: -0.6276964679017139\n",
      "river_temp\n",
      "The number of NaNs in the array is: 0\n",
      "The mean of the entire array is: 19.64039487406226\n",
      "river_salt\n",
      "The number of NaNs in the array is: 0\n",
      "The mean of the entire array is: 0.0\n",
      "river_dye_01\n",
      "The number of NaNs in the array is: 0\n",
      "The mean of the entire array is: 0.05555555555555555\n",
      "river_dye_02\n",
      "The number of NaNs in the array is: 0\n",
      "The mean of the entire array is: 0.28888888888888886\n"
     ]
    }
   ],
   "source": [
    "#fn = '/scratch/PFM_Simulations/LV4_Forecast/Forc/LV4_river.nc'\n",
    "fn = '/dataSIO/PFM_Simulations/Archive/Forcing/river_LV4_2025070906.nc'\n",
    "vars = ['river_time','river_transport','river_temp','river_salt','river_dye_01','river_dye_02']\n",
    "\n",
    "\n",
    "\n",
    "ds = nc.Dataset(fn)\n",
    "\n",
    "for vr in vars:\n",
    "    print(vr)\n",
    "    nan_count = np.sum(np.isnan(ds.variables[vr][:]))\n",
    "    print(f\"The number of NaNs in the array is: {nan_count}\")  \n",
    "    mean = np.mean(ds.variables[vr][:])  \n",
    "    print(f\"The mean of the entire array is: {mean}\")  \n",
    "\n",
    "\n"
   ]
  },
  {
   "cell_type": "code",
   "execution_count": null,
   "id": "54cf2acf",
   "metadata": {},
   "outputs": [],
   "source": [
    "\n",
    "\n",
    "t = ds.variables['river_time'][:]\n",
    "ds.variables['river_transport'][:,:]\n",
    "#ds.variables['river_time'][:]\n",
    "\n",
    "\n",
    "\n",
    "fig, ax = plt.subplots()\n",
    "for aa in np.arange(9):\n",
    "    ax.plot(t, ds.variables['river_transport'][:,aa])\n"
   ]
  },
  {
   "cell_type": "code",
   "execution_count": null,
   "id": "aa917cf7",
   "metadata": {},
   "outputs": [
    {
     "name": "stdout",
     "output_type": "stream",
     "text": [
      "the shape of temp is: (15, 2, 10, 1141, 486)\n",
      "The number of NaNs in the temp array is: 14910\n",
      "The mean of the entire temp array is: nan\n",
      "The number of NaNs in the salt array is: 14910\n",
      "The mean of the entire salt array is: nan\n",
      "The number of NaNs in the dye_01 array is: 14910\n",
      "The mean of the entire dye_01 array is: nan\n",
      "The number of NaNs in the dye_02 array is: 14910\n",
      "The mean of the entire dye_02 array is: nan\n",
      "\n",
      "Indices of NaN temp values: (array([14, 14, 14, ..., 14, 14, 14], shape=(14910,)), array([0, 0, 0, ..., 0, 0, 0], shape=(14910,)), array([0, 0, 0, ..., 9, 9, 9], shape=(14910,)), array([779, 779, 779, ..., 851, 851, 852], shape=(14910,)), array([436, 437, 438, ..., 439, 440, 439], shape=(14910,)))\n"
     ]
    }
   ],
   "source": [
    "# the one below this is the output restart file (the blow up, has NaNs)\n",
    "#fn = '/scratch/PFM_Simulations/restart_data/LV4_ocean_rst_202507090600_202507140600.nc'\n",
    "\n",
    "# the one below this is used for restarting LV4 (has NaNs)\n",
    "fn = '/scratch/PFM_Simulations/restart_data/LV4_ocean_rst_202507081200_202507131200.nc'\n",
    "\n",
    "# below is a random one (without NaNs):\n",
    "#fn = '/scratch/PFM_Simulations/restart_data/LV4_ocean_rst_202507021200_202507071200.nc'\n",
    "# below is the most recent file without NaNs\n",
    "#fn = '/scratch/PFM_Simulations/restart_data/LV4_ocean_rst_202507080000_202507130000.nc'\n",
    "\n",
    "# files with nans are below:\n",
    "#fn = '/scratch/PFM_Simulations/restart_data/LV4_ocean_rst_202507080600_202507130600.nc'\n",
    "\n",
    "ds = nc.Dataset(fn)\n",
    "variable_names = list(ds.variables.keys())\n",
    "print(\"Variables in the NetCDF file:\")\n",
    "for var_name in variable_names:\n",
    "    print(var_name)\n",
    "\n",
    "tsize=np.shape(ds.variables['temp'][:])\n",
    "print(f'the shape of temp is: {tsize}')\n",
    "\n",
    "vr='temp'\n",
    "nan_count = np.sum(np.isnan(ds.variables[vr][:]))\n",
    "print(f\"The number of NaNs in the {vr} array is: {nan_count}\")  \n",
    "mean = np.mean(ds.variables[vr][:])  \n",
    "print(f\"The mean of the entire {vr} array is: {mean}\")  \n",
    "vr='salt'\n",
    "nan_count = np.sum(np.isnan(ds.variables[vr][:]))\n",
    "print(f\"The number of NaNs in the {vr} array is: {nan_count}\")  \n",
    "mean = np.mean(ds.variables[vr][:])  \n",
    "print(f\"The mean of the entire {vr} array is: {mean}\")  \n",
    "vr='dye_01'\n",
    "nan_count = np.sum(np.isnan(ds.variables[vr][:]))\n",
    "print(f\"The number of NaNs in the {vr} array is: {nan_count}\")  \n",
    "mean = np.mean(ds.variables[vr][:])  \n",
    "print(f\"The mean of the entire {vr} array is: {mean}\")  \n",
    "vr='dye_02'\n",
    "nan_count = np.sum(np.isnan(ds.variables[vr][:]))\n",
    "print(f\"The number of NaNs in the {vr} array is: {nan_count}\")  \n",
    "mean = np.mean(ds.variables[vr][:])  \n",
    "print(f\"The mean of the entire {vr} array is: {mean}\")  \n",
    "\n",
    "\n",
    "# Find the indices of NaN values\n",
    "nan_indices = np.where(np.isnan(ds.variables['temp'][:]))\n",
    "# Print the array and the indices of NaNs\n",
    "print(\"\\nIndices of NaN temp values:\", nan_indices)\n"
   ]
  },
  {
   "cell_type": "code",
   "execution_count": 7,
   "id": "5204a4c1",
   "metadata": {},
   "outputs": [
    {
     "data": {
      "text/plain": [
       "(700.0, 900.0)"
      ]
     },
     "execution_count": 7,
     "metadata": {},
     "output_type": "execute_result"
    },
    {
     "data": {
      "image/png": "[encoded data removed]",
      "text/plain": [
       "<Figure size 640x480 with 2 Axes>"
      ]
     },
     "metadata": {},
     "output_type": "display_data"
    }
   ],
   "source": [
    "# Find the locations of NaN values\n",
    "temp = ds.variables['temp'][:]\n",
    "nan_locations = np.argwhere(np.isnan(np.squeeze(temp[-1,0,-1,:,:])))\n",
    "\n",
    "# Extract row and column indices for plotting\n",
    "row_indices = nan_locations[:, 0]\n",
    "col_indices = nan_locations[:, 1]\n",
    "fig, ax = plt.subplots()\n",
    "im=ax.imshow(temp[-1,0,-1,:,:],  vmin=14, vmax=25 ,origin='lower') #, extent=[350, 450, 750, 850])\n",
    "cbar = fig.colorbar(im, ax=ax, label='temp')\n",
    "ax.scatter(col_indices, row_indices, color='red', marker='s', s=100, label='NaN Locations') # Plot NaN points\n",
    "# Set x-axis limits from 2 to 8\n",
    "plt.xlim(300, 500) \n",
    "# Set y-axis limits from -0.5 to 0.5\n",
    "plt.ylim(700, 900) \n"
   ]
  },
  {
   "cell_type": "code",
   "execution_count": null,
   "id": "c6353646",
   "metadata": {},
   "outputs": [
    {
     "data": {
      "image/png": "[encoded data removed]",
      "text/plain": [
       "<Figure size 640x480 with 2 Axes>"
      ]
     },
     "metadata": {},
     "output_type": "display_data"
    }
   ],
   "source": [
    "fig, ax = plt.subplots()\n",
    "temp = ds.variables['temp'][:]\n",
    "im=ax.imshow(temp[7,1,-1,770:830,410:450],  vmin=14, vmax=25 ,origin='lower') #, extent=[350, 450, 750, 850])\n",
    "cbar = fig.colorbar(im, ax=ax, label='temp')\n",
    "\n"
   ]
  },
  {
   "cell_type": "code",
   "execution_count": 23,
   "id": "84b69715",
   "metadata": {},
   "outputs": [],
   "source": [
    "fn_grid = '/scratch/PFM_Simulations/Grids/GRID_SDTJRE_LV4_mss_oct2024.nc'\n",
    "dsg = nc.Dataset(fn_grid)\n",
    "\n"
   ]
  },
  {
   "cell_type": "code",
   "execution_count": 33,
   "id": "1b9c19eb",
   "metadata": {},
   "outputs": [
    {
     "data": {
      "image/png": "[encoded data removed]",
      "text/plain": [
       "<Figure size 640x480 with 2 Axes>"
      ]
     },
     "metadata": {},
     "output_type": "display_data"
    }
   ],
   "source": [
    "fig, ax = plt.subplots()\n",
    "hb = dsg.variables['h'][:]\n",
    "im=ax.imshow(hb[770:830,410:450] ,  vmin=-1, vmax=.75 , origin='lower') #, extent=[350, 450, 750, 850])\n",
    "cbar = fig.colorbar(im, ax=ax, label='depth')\n"
   ]
  }
 ],
 "metadata": {
  "kernelspec": {
   "display_name": "PHM-env",
   "language": "python",
   "name": "python3"
  },
  "language_info": {
   "codemirror_mode": {
    "name": "ipython",
    "version": 3
   },
   "file_extension": ".py",
   "mimetype": "text/x-python",
   "name": "python",
   "nbconvert_exporter": "python",
   "pygments_lexer": "ipython3",
   "version": "3.12.9"
  }
 },
 "nbformat": 4,
 "nbformat_minor": 5
}
