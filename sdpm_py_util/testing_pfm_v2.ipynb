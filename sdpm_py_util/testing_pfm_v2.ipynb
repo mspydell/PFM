{
 "cells": [
  {
   "cell_type": "code",
   "execution_count": 1,
   "id": "8c8f5bf1",
   "metadata": {},
   "outputs": [
    {
     "name": "stderr",
     "output_type": "stream",
     "text": [
      "/home/mspydell/models/PFM_root/PFM/sdpm_py_util/ocn_funs_forecast.py:32: UserWarning: The seawater library is deprecated! Please use gsw instead.\n",
      "  import seawater\n"
     ]
    }
   ],
   "source": [
    "import sys\n",
    "import os\n",
    "import subprocess\n",
    "import numpy as np\n",
    "from datetime import datetime, timedelta\n",
    "\n",
    "sys.path.append('../sdpm_py_util')\n",
    "import init_funs_forecast as initfuns\n",
    "sys.path.append('/home/mspydell/models/PFM_root/PFM/driver')\n",
    "#from driver_run_forecast_LV1234 import driver_run_fore_LV1234\n",
    "from driver_run_pfm_phm import driver_run_pfm_phm\n"
   ]
  },
  {
   "cell_type": "code",
   "execution_count": null,
   "id": "3c2844e4",
   "metadata": {},
   "outputs": [],
   "source": [
    "infile = '/home/mspydell/models/PFM_root/PFM/sdpm_py_util/pfm_input_file.py'\n",
    "pkl_fnm = '/scratch/PFM_Simulations/forecast_pfile.pkl'\n",
    "\n",
    "\n",
    "t00 = datetime.now()\n",
    "# upon initialization, make the model_info.pkl file\n",
    "initfuns.initialize_model( infile , pkl_fnm )\n",
    "\n",
    "# print info from pickle file\n",
    "initfuns.print_initial_model_info( pkl_fnm )\n"
   ]
  },
  {
   "cell_type": "code",
   "execution_count": null,
   "id": "1bb33ea3",
   "metadata": {},
   "outputs": [],
   "source": [
    "\n",
    "driver_run_fore_LV1234( infile, pkl_fnm )\n",
    "\n",
    "# to run from the command line do:\n",
    "# python driver_run_hind_LV123.py '/home/mspydell/models/PFM_root/PFM/sdpm_py_util/phm_model_info_devel.py' '/scratch/PHM_Simulations/hindcast_pfile.pkl' > hindcast.out\n"
   ]
  },
  {
   "cell_type": "code",
   "execution_count": 2,
   "id": "33fd46c7",
   "metadata": {},
   "outputs": [
    {
     "name": "stdout",
     "output_type": "stream",
     "text": [
      "first, we need all the model information.\n",
      "from /home/mspydell/models/PFM_root/PFM/sdpm_py_util/pfm_input_file.py\n",
      "we create a dictionary of model info\n",
      "the model_info dictionary is saved to /scratch/PFM_Simulations/forecast_pfile.pkl\n",
      "this file dictates how the model is run, where files are saved, etc.\n",
      "------------------------------------------------------------\n",
      "                        Model Set Up                        \n",
      "------------------------------------------------------------\n",
      "forecast                                                    \n",
      "from           : 2025-06-10 12:00                           \n",
      "to             : 2025-06-15 12:00                           \n",
      "in a           : 5.0 day chunk                              \n",
      "atm model      : ecmwf                                      \n",
      "ocean_model    : hycom_new                                  \n",
      "running levels : LV1, LV2, LV3, LV4                         \n",
      "starting LV1\n",
      "done with LV1\n",
      "LV fore ran correctly? 2 (0=yes)\n",
      "this took \n",
      "starting LV2\n",
      "done with LV2\n",
      "LV fore ran correctly? 2 (0=yes)\n",
      "this took \n",
      "starting LV3\n",
      "done with LV3\n",
      "LV fore ran correctly? 2 (0=yes)\n",
      "this took \n",
      "starting LV4\n",
      "done with LV4\n",
      "LV fore ran correctly? 2 (0=yes)\n",
      "this took \n"
     ]
    },
    {
     "name": "stderr",
     "output_type": "stream",
     "text": [
      "python: can't open file '/home/mspydell/models/PFM_root/PFM/sdpm_py_util/driver_functions.py': [Errno 2] No such file or directory\n",
      "python: can't open file '/home/mspydell/models/PFM_root/PFM/sdpm_py_util/driver_functions.py': [Errno 2] No such file or directory\n",
      "python: can't open file '/home/mspydell/models/PFM_root/PFM/sdpm_py_util/driver_functions.py': [Errno 2] No such file or directory\n",
      "python: can't open file '/home/mspydell/models/PFM_root/PFM/sdpm_py_util/driver_functions.py': [Errno 2] No such file or directory\n"
     ]
    }
   ],
   "source": [
    "#run = 'hind'\n",
    "run = 'fore'\n",
    "if run == 'hind': # hindcasting works with this newer method (6/10/25). make sure you are in PHM-env\n",
    "    infile = '/home/mspydell/models/PFM_root/PFM/sdpm_py_util/phm_model_info_devel.py'\n",
    "    pkl_fnm = '/scratch/PHM_Simulations/hindcast_pfile.pkl'\n",
    "else:\n",
    "    infile = '/home/mspydell/models/PFM_root/PFM/sdpm_py_util/pfm_input_file.py'\n",
    "    pkl_fnm = '/scratch/PFM_Simulations/forecast_pfile.pkl'\n",
    "\n",
    "driver_run_pfm_phm( infile, pkl_fnm )\n"
   ]
  }
 ],
 "metadata": {
  "kernelspec": {
   "display_name": "PHM-env",
   "language": "python",
   "name": "python3"
  },
  "language_info": {
   "codemirror_mode": {
    "name": "ipython",
    "version": 3
   },
   "file_extension": ".py",
   "mimetype": "text/x-python",
   "name": "python",
   "nbconvert_exporter": "python",
   "pygments_lexer": "ipython3",
   "version": "3.12.9"
  }
 },
 "nbformat": 4,
 "nbformat_minor": 5
}
